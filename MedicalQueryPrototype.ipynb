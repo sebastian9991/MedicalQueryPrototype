{
 "cells": [
  {
   "cell_type": "markdown",
   "id": "9ce3c6d6-43f5-42a6-9666-23632615ac48",
   "metadata": {},
   "source": [
    "# Medical Query Prototype \n",
    "\n",
    "## Description:\n",
    "As per the document: \"A prototype tool that allows users to query about medical drugs, search online medical news or research study sources via an API or any search strategies, index the relevant results, and use a Large Language Model (LLM) to summarize the information to answer the user's query.\"\n",
    "\n",
    "## Summary: \n",
    "Suppose that we take medical papers and either (1) web-scrap relevant data (**Integration for News Search**) (2) similarly scrap from a pdf. First, we need API's that link the data or scrap our files in such a format that is required by many LLMS. The data collection is then followed by some pre-processing. It would be preferable that our pipeline be a Question Answering system that can not only answer within a good accuracy but tell us when it cannot answer the query. For instance, if a common question is that of \"What are the main competitor drugs of [name] and what are their latest news now?\" If no such token allows for an answer we would want it to tell us so, essentially reading the paper for us. If an answer exists we want to know how \"good\" of an answer it is. As such a relevancy assessment would be required (**Relevance Filtering**). The best tech for this task would be Retrieval Augmented Generation (RAG). (NOTE: Fine-tuning would also work, but RAGs are more dynamic and better for this task). RAG allow for our data to be structured as an embedding (**Information Indexing**), and combined with our query the LLM can provide an answer specific to our data (**Summarization**)! In my opinion,  Llama-Index provides the best library to tackle RAG. Finally, a user interface is suggested with the use of gradio (**User Interface**)"
   ]
  },
  {
   "cell_type": "markdown",
   "id": "62722d37-d806-4493-a53e-2c0dd55e97b2",
   "metadata": {},
   "source": [
    "# Design Flow Structure \n",
    "\n",
    "Below is a presented flow design structure for the overall proposal. "
   ]
  },
  {
   "cell_type": "markdown",
   "id": "39835e04-f27f-4bca-bb6b-4c4fa84c7dcf",
   "metadata": {},
   "source": [
    "![title](img/Design.png)"
   ]
  },
  {
   "cell_type": "markdown",
   "id": "0438cac4-86ed-4173-a965-68cbbb8c90f4",
   "metadata": {},
   "source": [
    "# API Integration for News Search/API/PDF\n",
    "\n",
    "Llama-index provides Data Loaders from LlamaHub which are pre-made APIs to communicate with certain data! As such this allows alot of functionality."
   ]
  },
  {
   "cell_type": "markdown",
   "id": "6d2bc4a6-3f60-4de2-8b8e-8b2482cf5e75",
   "metadata": {},
   "source": [
    "## PDF Loader"
   ]
  },
  {
   "cell_type": "code",
   "execution_count": null,
   "id": "aeb56e37-8d8b-4168-8085-3969733daa4d",
   "metadata": {
    "scrolled": true
   },
   "outputs": [],
   "source": [
    "## Define our documents, LlamaIndex makes this particularly easy with it's Data Loaders on LlamaHub object and open source use.\n",
    "\n",
    "from llama_index.readers.file import PDFReader #We have a Data Loader for our PDF papers\n",
    "\n",
    "#PDF Loader\n",
    "pdf_loader = PDFReader()\n",
    "\n",
    "#Document Objects \n",
    "pdf_documents = pdf_loader.load_data(\"path/to/pdf/paper.pdf\")"
   ]
  },
  {
   "cell_type": "markdown",
   "id": "e87028d6-43d6-4127-bd72-fe16bb8f5467",
   "metadata": {},
   "source": [
    "## Web Loader (News/Web)"
   ]
  },
  {
   "cell_type": "code",
   "execution_count": null,
   "id": "85dbd265-6c2e-4d46-95b1-5dbc78f0baaa",
   "metadata": {},
   "outputs": [],
   "source": [
    "## Define our documents, LlamaIndex makes this particularly easy with it's Data Loaders on LlamaHub object and open source use.\n",
    "## This sort of web loader pattern can be extend towards News Sources instead of having a specific API for it. \n",
    "\n",
    "from llama_index.readers.web import BeautifulSoupWebReader #We have a Data Loader for a website (Note: This can potentially be difficult to do initially\n",
    "#and would require some other custom changes for dynamic sites, as well as sites that require logins and so forth, but this is a simple example.)\n",
    "\n",
    "#Web Loader\n",
    "web_loader = BeautifulSoupWebReader()\n",
    "\n",
    "#Document Objects \n",
    "web_documents = web_loader.load_data(urls=[URL])"
   ]
  },
  {
   "cell_type": "markdown",
   "id": "cffa7e7c-3c77-4642-bdf9-840d482858e5",
   "metadata": {},
   "source": [
    "## Web Scraper (Example on website)\n",
    "\n",
    "This would be an example of how to create a simple webscraper for a more specialized website, one in which we must use the CSS selectors or XML paths to get specific data. This web scraper employs the use of playwright. The data extracted from these scrapers must then be preproccesed into a Document object for Llama index. "
   ]
  },
  {
   "cell_type": "code",
   "execution_count": null,
   "id": "654c421d-81db-450c-8411-7eb7f666e15e",
   "metadata": {},
   "outputs": [],
   "source": [
    "## Example of a more specialized web scraper.\n",
    "from playwright.async_api import async_playwright\n",
    "import asyncio\n",
    "\n",
    "async def process_locator(locator):\n",
    "    count = await locator.count()\n",
    "    if count > 1: #We have many elements and must resolve each inner text\n",
    "        texts = \"\"\n",
    "        for i in range(count):\n",
    "            element = locator.nth(i)\n",
    "            if await element.is_visible():\n",
    "                inner_text = await element.inner_text()\n",
    "                texts = texts + \",\" + inner_text\n",
    "                return texts\n",
    "    else:\n",
    "        if await locator.is_visible():\n",
    "            return await locator.inner_text()\n",
    "        else:\n",
    "            return \"NA\"\n",
    "    \n",
    "\n",
    "async def main():\n",
    "   async with async_playwright() as pw:\n",
    "       browser = await pw.chromium.launch(\n",
    "           ##We'll employ the use of chromium for this webscraper\n",
    "           ##Using a proxy creates HTTP errors.\n",
    "          headless=False\n",
    "      )\n",
    "\n",
    "       #Beginning page: \n",
    "       page = await browser.new_page()\n",
    "       await page.goto('PAPER_URL')\n",
    "       await page.wait_for_timeout(5000)\n",
    "       result = []\n",
    "       nextPage_urls = []\n",
    "       page_list = await page.query_selector_all('.list_paper_a') #Assuming we have a website of lists of papers\n",
    "       for page in page_list:\n",
    "           nextPage_urls.append(await page.get_attribute('href'))\n",
    "           \n",
    "       for page_url in nextPage_urls:\n",
    "            paper_info = {}\n",
    "            await page.goto(page_url)\n",
    "           ##NOTE: These CSS selectors are highly dependent in the overall structure of the page, and the paper. However, making an assumption \n",
    "           #of some website that has drug information in a somewhat consistent manner we can extract relevant information as follows. \n",
    "            #Title: \n",
    "            title = page.locator(\".title-1\")\n",
    "            paper_info['title'] = await process_locator(title)\n",
    "            #Common Name:\n",
    "            drug_name = page.locator(\"#field_generic_name_value\")\n",
    "            paper_info['drug_name'] = await process_locator(common_name)\n",
    "            #Quantity:\n",
    "            quantity = page.locator(\"#field_quantity_value\")\n",
    "            paper_info['quantity'] = await process_locator(quantity)\n",
    "            #Packaging: \n",
    "            packaging = page.locator(\"#field_packaging_value\")\n",
    "            paper_info['packaging'] = await process_locator(packaging)\n",
    "            #Brands:\n",
    "            brand = page.locator(\"#field_brands_value\")\n",
    "            paper_info['brand'] = await process_locator(brand)\n",
    "            #Categories:\n",
    "            categories = page.locator(\"#field_categories_value\")\n",
    "            paper_info['categories'] = await process_locator(categories)\n",
    "            #Certifications:\n",
    "            certifications = page.locator(\"#field_labels_value\")\n",
    "            paper_info['certifications'] = await process_locator(certifications)\n",
    "            #Origin:\n",
    "            origin = page.locator(\"#field_origin_value\")\n",
    "            paper_info['origin'] = await process_locator(origin)\n",
    "            #origin of ingredients:\n",
    "            origin_of_ingredients = page.locator(\"#field_origins_value\")\n",
    "            paper_info['origin_of_ingredients'] = await process_locator(origin_of_ingredients)\n",
    "            #Places of manufacturing:\n",
    "            places_manufactured = page.locator(\"#field_manufacturing_places_value\")\n",
    "            paper_info['places_manufactured'] = await process_locator(places_manufactured)\n",
    "            #Stores:\n",
    "            stores = page.locator(\"#field_stores_value\")\n",
    "            paper_info['stores'] = await process_locator(stores)\n",
    "        \n",
    "            result.append(food_info)\n",
    "            \n",
    "\n",
    "\n",
    "       \n",
    "       \n",
    "\n",
    "       \n",
    "           \n",
    "           \n",
    "           \n",
    "       await browser.close()\n",
    "       return result\n",
    "if __name__ == '__main__':\n",
    "   result = await main()\n",
    "#CITATIONs: \n",
    "#Code cited from OxyLabs: https://github.com/oxylabs/playwright-web-scraping?tab=readme-ov-file\n",
    "#,https://playwright.dev/python/docs/locat"
   ]
  },
  {
   "cell_type": "code",
   "execution_count": null,
   "id": "0e565ed3-6891-498d-a917-e8a8c2d27a86",
   "metadata": {},
   "outputs": [],
   "source": [
    "## Concatenated the documents\n",
    "\n",
    "documents = pdf_documents + web_documents"
   ]
  },
  {
   "cell_type": "markdown",
   "id": "b51a21a0-700f-4bb1-92fe-329650c0962c",
   "metadata": {},
   "source": [
    "# Information Indexing & Relevance Filtering \n",
    "\n",
    "For this task, we employ the use of Retrieval Augmented Generation (RAG). Note that I am choosing this over fine-tuning at this moment due to the time constraint. Fine-tuning a specific open source model on Hugging Face, for example, could provide accurate results for a QA system, but is generally more expensive of a procedure. Additionally, fine-tuning provides a more static model, and requires a \"re fine-tuning\" with every new dataset. whereas RAG is more dynamic.\n",
    "\n",
    "RAG's essentially work by creating a data structure (embeddings) of our documents, and allowing our LLM to mathematically provide an answer to our query based on the vector embeddings of both. Note: At this point we assume to have the pdfs and relevant websites."
   ]
  },
  {
   "cell_type": "markdown",
   "id": "a77ee808-5c45-48a5-b5bd-756bf042b6f8",
   "metadata": {},
   "source": [
    "![title](img/basic_rag.png)\n",
    "\n",
    "\n",
    "High-level RAG image cited from Llama Index: https://docs.llamaindex.ai/en/stable/getting_started/concepts/#indexing-stage"
   ]
  },
  {
   "cell_type": "markdown",
   "id": "5da7461a-2969-40a3-8f7a-f306c5b8e356",
   "metadata": {},
   "source": [
    "## Indexing\n",
    "\n",
    "We then take our documents and return vector emebeddings, allowing for a data structure that allows our LLMs to query the data. For this procedure we can employ the use of LLM's to embedded our data, OpenSource (HuggingFace) and OpenAI llms provide this functionality. Notice, in the Installation Instructions I provided a choice for both, this is the case as an API key is required for OpenAI use. "
   ]
  },
  {
   "cell_type": "code",
   "execution_count": null,
   "id": "ea9e0b6b-d79f-45ef-95f7-253135a24ba2",
   "metadata": {},
   "outputs": [],
   "source": [
    "## OpenAI usage: \n",
    "from llama_index.embeddings.openai import OpenAIEmbedding\n",
    "from llama_index.core import Settings\n",
    "\n",
    "# global\n",
    "Settings.embed_model = OpenAIEmbedding()\n",
    "\n",
    "# per-index\n",
    "index = VectorStoreIndex.from_documents(documents, embed_model=embed_model)"
   ]
  },
  {
   "cell_type": "code",
   "execution_count": null,
   "id": "823b0ba9-478b-4509-8653-7f8fa71e6ca1",
   "metadata": {},
   "outputs": [],
   "source": [
    "##  Hugging Face usage (bge-small-en-v1.5):\n",
    "from llama_index.embeddings.huggingface import HuggingFaceEmbedding\n",
    "from llama_index.core import Settings\n",
    "\n",
    "Settings.embed_model = HuggingFaceEmbedding(\n",
    "    model_name=\"BAAI/bge-small-en-v1.5\" #The model that we use from Hugging Face provides alot of diversity of choice for one that is best suited for task\n",
    ")\n",
    "\n",
    "# per-index\n",
    "index = VectorStoreIndex.from_documents(documents, embed_model=embed_model)"
   ]
  },
  {
   "cell_type": "markdown",
   "id": "eb96e817-752d-4936-80f6-20a32d7cd9fd",
   "metadata": {},
   "source": [
    "## Retriever \n",
    "\n",
    "Retrievers objects allow us to get the most relevant answer given a query. As such, this is a possible method to **Relevance Filtering**. For this, we use the VectorIndexRetriever. (Note: There are many selections and preferences for retriever) The retriever allows for fetching the maximum relevant context for our query. "
   ]
  },
  {
   "cell_type": "code",
   "execution_count": null,
   "id": "60d07165-3eb2-496b-b512-b1debb221c38",
   "metadata": {},
   "outputs": [],
   "source": [
    "# configure retriever\n",
    "retriever = VectorIndexRetriever(\n",
    "    index=index,\n",
    "    similarity_top_k=2,\n",
    ")\n",
    "\n",
    "# configure response synthesizer (We use the default response synthesizer)\n",
    "response_synthesizer = get_response_synthesizer(\n",
    "    response_mode=\"tree_summarize\",\n",
    ")"
   ]
  },
  {
   "cell_type": "markdown",
   "id": "b21015cb-1c46-4735-9c33-dc97d38d6103",
   "metadata": {},
   "source": [
    "## Query by LLM\n",
    "\n",
    "Note that this is the simplest implementation, Llama Index provides an extensive ability of control, and as such we can have more \"low-level\" code here. For instance, we can have a streaming response (similar to ChatGPT) that reduces the perceived latency of the response, a user experience choice. "
   ]
  },
  {
   "cell_type": "code",
   "execution_count": null,
   "id": "5eae7e3d-5bb1-4893-8ae0-973b57c7cd49",
   "metadata": {},
   "outputs": [],
   "source": [
    "# assemble query engine\n",
    "query_engine = RetrieverQueryEngine(\n",
    "    retriever=retriever,\n",
    "    response_synthesizer=response_synthesizer,\n",
    ")\n",
    "\n",
    "# query  \n",
    "response = query_engine.query(\"What are the main competitor drugs of [drug name] and what are their latest news now?\")"
   ]
  },
  {
   "cell_type": "markdown",
   "id": "346d53ce-f676-4a53-b67b-4512446b18d2",
   "metadata": {},
   "source": [
    "## BONUS: Agents\n",
    "\n",
    "We can extend our query engine to act more \"intelligently\" on our data by further calling external services or our own defined tools on the data given. Agent use could be a great addition to the task, as for instance, we can create a better summarization process through the use of specifically created agent tools! \n",
    "\n",
    "https://docs.llamaindex.ai/en/stable/module_guides/deploying/agents/"
   ]
  },
  {
   "cell_type": "markdown",
   "id": "18424fc2-32f3-4dc0-bd30-3433449cd7b0",
   "metadata": {},
   "source": [
    "## Evaluation (Summarization)\n",
    "\n",
    "Llama provides an extensive library for evaluation of our pipeline. There are a few methods that would be the most beneficial for monitoring the performance of our pipeline. We would like to have our model tested on question by our documents before relying on the answer given for our actual wanted query. To do have this functionality we use llama-index Question Generation. We then use a RelevancyEvaluator, that allows use to evaluate the \"relevancy\" of the answers generated by our model. Below we have an example with gpt-4, again this can be extend towards open source models. "
   ]
  },
  {
   "cell_type": "code",
   "execution_count": null,
   "id": "37c67419-3d48-4949-ad05-ccbf4f87ae2a",
   "metadata": {},
   "outputs": [],
   "source": [
    "## Suppose we have our document object prepared\n",
    "from llama_index.core.evaluation import DatasetGenerator, RelevancyEvaluator\n",
    "from llama_index.core import SimpleDirectoryReader, VectorStoreIndex, Response\n",
    "from llama_index.llms.openai import OpenAI\n",
    "import pandas as pd\n",
    "\n",
    "data_generator = DatasetGenerator.from_documents(documents)\n",
    "eval_questions = data_generator.generate_questions_from_nodes() ## Here we generate questions!"
   ]
  },
  {
   "cell_type": "code",
   "execution_count": null,
   "id": "156d9886-37b2-4556-a296-7a647fabd5dc",
   "metadata": {},
   "outputs": [],
   "source": [
    "# gpt-4\n",
    "gpt4 = OpenAI(temperature=0, model=\"gpt-4\")\n",
    "\n",
    "evaluator_gpt4 = RelevancyEvaluator(llm=gpt4) ## Here we create the Relevancy Object\n",
    "\n",
    "# create vector index\n",
    "vector_index = VectorStoreIndex.from_documents(documents)"
   ]
  },
  {
   "cell_type": "code",
   "execution_count": null,
   "id": "5460f292-0b81-437f-8554-4e698aae720d",
   "metadata": {},
   "outputs": [],
   "source": [
    "# define jupyter display function, that produces a visual our query and response\n",
    "def display_eval_df(query: str, response: Response, eval_result: str) -> None:\n",
    "    eval_df = pd.DataFrame(\n",
    "        {\n",
    "            \"Query\": query,\n",
    "            \"Response\": str(response),\n",
    "            \"Source\": (\n",
    "                response.source_nodes[0].node.get_content()[:1000] + \"...\"\n",
    "            ),\n",
    "            \"Evaluation Result\": eval_result,\n",
    "        },\n",
    "        index=[0],\n",
    "    )\n",
    "    eval_df = eval_df.style.set_properties(\n",
    "        **{\n",
    "            \"inline-size\": \"600px\",\n",
    "            \"overflow-wrap\": \"break-word\",\n",
    "        },\n",
    "        subset=[\"Response\", \"Source\"]\n",
    "    )\n",
    "    display(eval_df)"
   ]
  },
  {
   "cell_type": "markdown",
   "id": "f6bfc850-d976-4bbd-b181-c43f9d50603a",
   "metadata": {},
   "source": [
    "The cell below produces a dataframe to show the relevancy of our answers. \n",
    "\n",
    "CITED: https://docs.llamaindex.ai/en/stable/examples/evaluation/QuestionGeneration/"
   ]
  },
  {
   "cell_type": "code",
   "execution_count": null,
   "id": "a7c09454-f2b0-4933-ba10-ea77623ac315",
   "metadata": {},
   "outputs": [],
   "source": [
    "query_engine = vector_index.as_query_engine()\n",
    "response_vector = query_engine.query(eval_questions[1])\n",
    "eval_result = evaluator_gpt4.evaluate_response(\n",
    "    query=eval_questions[1], response=response_vector\n",
    ")"
   ]
  },
  {
   "cell_type": "markdown",
   "id": "3098f363-767e-4623-8e85-7e7d0e1aa0d0",
   "metadata": {},
   "source": [
    "NOTICE: The use of the relevancy evaluator would be incredibly useful for an open-source model because if we decided to use fine-tuning with RAG we can then produce distribution of relevancy based on the each fine tune, or each model!"
   ]
  },
  {
   "cell_type": "code",
   "execution_count": null,
   "id": "59200ed2-f51e-4cd5-ae89-2deecb7fec13",
   "metadata": {},
   "outputs": [],
   "source": [
    "## We can then extend this to a open-source model, and finally evaluate on our query before accepting the answer. \n",
    "# create llm\n",
    "llm = OpenAI(model=\"HUGGING_FACE_MODEL\", temperature=0.0)\n",
    "\n",
    "# build index\n",
    "...\n",
    "\n",
    "# define evaluator\n",
    "evaluator = RelevancyEvaluator(llm=llm)\n",
    "\n",
    "# query index\n",
    "query_engine = vector_index.as_query_engine()\n",
    "query = \"Could you identify the primary competitve drugs to [NAME] and clarify whether they incorporated real-world evidence in their submissions to the FDA or EMA?\"\n",
    "response = query_engine.query(query)\n",
    "response_str = response.response\n",
    "for source_node in response.source_nodes:\n",
    "    eval_result = evaluator.evaluate(\n",
    "        query=query,\n",
    "        response=response_str,\n",
    "        contexts=[source_node.get_content()],\n",
    "    )\n",
    "    print(str(eval_result.passing))"
   ]
  },
  {
   "cell_type": "markdown",
   "id": "34ff7f84-4aef-4359-acf1-786ba2f10b93",
   "metadata": {},
   "source": [
    "Llama provides a great image for this usage pattern:\n",
    "\n",
    "![title](img/eval_query_response_context.png)"
   ]
  },
  {
   "cell_type": "markdown",
   "id": "1802920a-2d17-4fb1-a801-66f1dbd3bf73",
   "metadata": {},
   "source": [
    "# User Interface Design\n",
    "\n",
    "I would like to pitch the use of Gradio for a simple user-interface. This library gives machine learning models/pipelines a great web interface. This open source python library creates quick web applications for ML models, such that they can be easily shared among the required users. This UI can then be hosted and used within the company easily. \n",
    "\n",
    "CITE: https://www.gradio.app/"
   ]
  },
  {
   "cell_type": "code",
   "execution_count": 1,
   "id": "665a12b8-f074-4189-96f6-05ef20f8d3f7",
   "metadata": {},
   "outputs": [
    {
     "name": "stdout",
     "output_type": "stream",
     "text": [
      "Running on local URL:  http://127.0.0.1:7860\n",
      "\n",
      "To create a public link, set `share=True` in `launch()`.\n"
     ]
    },
    {
     "data": {
      "text/html": [
       "<div><iframe src=\"http://127.0.0.1:7860/\" width=\"100%\" height=\"500\" allow=\"autoplay; camera; microphone; clipboard-read; clipboard-write;\" frameborder=\"0\" allowfullscreen></iframe></div>"
      ],
      "text/plain": [
       "<IPython.core.display.HTML object>"
      ]
     },
     "metadata": {},
     "output_type": "display_data"
    },
    {
     "data": {
      "text/plain": []
     },
     "execution_count": 1,
     "metadata": {},
     "output_type": "execute_result"
    }
   ],
   "source": [
    "import gradio as gr\n",
    "\n",
    "def process_query(dataset, param1, param2, param3, query):\n",
    "    # Placeholder for processing logic.\n",
    "    # The pipeline that we have created will be called here: \n",
    "    #...\n",
    "    #...\n",
    "    answer = \"Processed answer based on the dataset and parameters would appear here.\"\n",
    "    return answer\n",
    "\n",
    "# Placeholder for the save documentation function\n",
    "def save_documentation(dataset, query, answer):\n",
    "    # Placeholder for saving documentation logic.\n",
    "    # This function should be expanded to actually save the documentation in a persistent store.\n",
    "    print(f\"Documentation saved for dataset: {dataset}, query: {query}, answer: {answer}\")\n",
    "    return \"Documentation has been saved.\"\n",
    "\n",
    "# Create the Gradio interface\n",
    "with gr.Blocks() as demo:\n",
    "    gr.Markdown(\"<h1>Paper Query</h1>\")  # Title for the UI\n",
    "    \n",
    "    with gr.Row():\n",
    "        with gr.Column():\n",
    "            dataset = gr.Dropdown([\"Paper Documentation 1\", \"Paper Documentation 2\", \"Paper Documentation 3\"], label=\"Dataset\")\n",
    "            param1 = gr.Checkbox(label=\"Parameter 1\")\n",
    "            param2 = gr.Checkbox(label=\"Parameter 2\")\n",
    "            param3 = gr.Checkbox(label=\"Parameter 3\")\n",
    "            submit_button = gr.Button(\"Submit\")\n",
    "            save_button = gr.Button(\"Save this documentation\")  # Button for saving documentation\n",
    "        with gr.Column():\n",
    "            answer = gr.Textbox(label=\"Answer\", lines=10, placeholder=\"Your answer will appear here...\")\n",
    "            feedback_good = gr.Button(\"Good Answer\")\n",
    "            feedback_bad = gr.Button(\"Bad Answer\")\n",
    "            feedback_response = gr.Label()  # To display a response after feedback is submitted\n",
    "\n",
    "    query = gr.Textbox(label=\"Query\", placeholder=\"Type your query here...\")\n",
    "    \n",
    "    # # Function bindings\n",
    "    # submit_button.click(\n",
    "    #     fn=process_query,\n",
    "    #     inputs=[dataset, param1, param2, param3, query],\n",
    "    #     outputs=[answer]\n",
    "    # )\n",
    "    \n",
    "    # save_button.click(\n",
    "    #     fn=save_documentation,\n",
    "    #     inputs=[dataset, query, answer],\n",
    "    #     outputs=[]\n",
    "    # )\n",
    "\n",
    "    # feedback_good.click(\n",
    "    #     fn=lambda is_good, answer: \"Thank you for your feedback!\",\n",
    "    #     inputs=[True, answer],\n",
    "    #     outputs=[feedback_response]\n",
    "    # )\n",
    "    \n",
    "    # feedback_bad.click(\n",
    "    #     fn=lambda is_good, answer: \"Thank you for your feedback!\",\n",
    "    #     inputs=[False, answer],\n",
    "    #     outputs=[feedback_response]\n",
    "    # )\n",
    "\n",
    "# Launch the app\n",
    "demo.launch()\n",
    "\n"
   ]
  },
  {
   "cell_type": "markdown",
   "id": "00f9f159-e9eb-4ec9-bdee-98dba1df9289",
   "metadata": {},
   "source": [
    "## Gradio\n",
    "\n",
    "Here is an image of the gradio design. Below we have a submit button to follow the text box for our query. Additionally, we have a feedback (similar to OpenAI gpt) where we can say if the answer is good or bad. Further, we can save our document and fix some parameter if they are present! The Label area would present visuals such as a distribution of relevancy etc. \n",
    "\n",
    "![title](img/gradio_design.png)"
   ]
  },
  {
   "cell_type": "markdown",
   "id": "d313bf2e-5064-4b9d-b254-32941bfa2e07",
   "metadata": {},
   "source": [
    "## Installation Instructions. (My machine is Ubuntu (Debian))\n",
    "1. <code> pip install llama-index <code>\n",
    "2. <code> pip install llama-index-readers-file <code>\n",
    "3. <code> pip install llama-index-readers-web <code>\n",
    "4. <code> pip install llama-index-embeddings-openai <code> OR <code> pip install llama-index-embeddings-huggingface <code>\n",
    "5. <code> pip install llama-index-llms-openai <code>\n",
    "\n",
    "**UI interface requirements**: \n",
    "\n",
    "<code> pip install gradio <code>\n",
    "\n",
    "**Working Prototype requirements**:\n",
    "\n",
    "<code> pip install git+https://github.com/huggingface/transformers <code>\n",
    "<code> pip install bitsandbytes <code> \n",
    "<code> pip install accelerate <code>\n",
    "\n",
    "**Notice! CUDA must also be installed for the specific system**"
   ]
  },
  {
   "cell_type": "markdown",
   "id": "f16c36a1-6fc4-4041-a013-ea90767f6f65",
   "metadata": {},
   "source": [
    "## Simple Working Prototype\n",
    "\n",
    "Below is a working prototype of the design, run on a pdf of a paper I found that is potentially similar to a paper Evidinno may encounter. (Response Stream the answer below) (PDF USED: https://www.ncbi.nlm.nih.gov/pmc/articles/PMC10475455/#:~:text=In%202022%2C%20the%20FDA%20approved,(NBE)%20%5B1%5D.)"
   ]
  },
  {
   "cell_type": "code",
   "execution_count": 1,
   "id": "6c07271e-20ff-4e89-a658-e24e069d9275",
   "metadata": {},
   "outputs": [
    {
     "name": "stderr",
     "output_type": "stream",
     "text": [
      "/usr/lib/python3/dist-packages/scipy/__init__.py:146: UserWarning: A NumPy version >=1.17.3 and <1.25.0 is required for this version of SciPy (detected version 1.26.3\n",
      "  warnings.warn(f\"A NumPy version >={np_minversion} and <{np_maxversion}\"\n"
     ]
    }
   ],
   "source": [
    "import llama_index.core"
   ]
  },
  {
   "cell_type": "code",
   "execution_count": 5,
   "id": "4c6722a1-49e4-4f69-9965-36d3ad31d66b",
   "metadata": {},
   "outputs": [],
   "source": [
    "##Imports\n",
    "from llama_index.readers.file.docs.base import PDFReader #We have a Data Loader for our PDF papers\n",
    "from llama_index.core import VectorStoreIndex\n",
    "from llama_index.core import Settings\n",
    "from llama_index.llms.huggingface import HuggingFaceLLM"
   ]
  },
  {
   "cell_type": "code",
   "execution_count": 6,
   "id": "7633624a-b3e9-474f-8b5a-c0b914f646d7",
   "metadata": {},
   "outputs": [],
   "source": [
    "#CREATE DOCUMENTS\n",
    "#PDF Loader\n",
    "pdf_loader = PDFReader()\n",
    "\n",
    "\n",
    "#Document Objects \n",
    "pdf_documents = pdf_loader.load_data(\"s43556-023-00138-y.pdf\")"
   ]
  },
  {
   "cell_type": "code",
   "execution_count": 7,
   "id": "c26d2476-b5bd-443a-adfb-7a89ab425ed5",
   "metadata": {},
   "outputs": [
    {
     "data": {
      "text/plain": [
       "[Document(id_='4830b885-bf7a-4ad4-b1de-2187a6ea2b92', embedding=None, metadata={'page_label': '1', 'file_name': 's43556-023-00138-y.pdf'}, excluded_embed_metadata_keys=[], excluded_llm_metadata_keys=[], relationships={}, text='Zhang\\xa0 et\\xa0al. Molecular Biomedicine            (2023) 4:26  \\nhttps://doi.org/10.1186/s43556-023-00138-y\\nREVIEW Open Access\\n© The Author(s) 2023. Open Access  This article is licensed under a Creative Commons Attribution 4.0 International License, which \\npermits use, sharing, adaptation, distribution and reproduction in any medium or format, as long as you give appropriate credit to the \\noriginal author(s) and the source, provide a link to the Creative Commons licence, and indicate if changes were made. The images or \\nother third party material in this article are included in the article’s Creative Commons licence, unless indicated otherwise in a credit line \\nto the material. If material is not included in the article’s Creative Commons licence and your intended use is not permitted by statutory \\nregulation or exceeds the permitted use, you will need to obtain permission directly from the copyright holder. To view a copy of this \\nlicence, visit http:// creat iveco mmons. org/ licen ses/ by/4. 0/.Molecular Biomedicine\\nSynthesis and\\xa0clinical application of\\xa0new \\ndrugs approved by\\xa0FDA in\\xa02022\\nJing‑Yi Zhang1, Ya‑Tao Wang2,3, Lu Sun3,4*, Sai‑Qi Wang3* and Zhe‑Sheng Chen5* \\nAbstract \\nThe pharmaceutical industry had a glorious year in 2022, with a total of 37 new drugs including 20 new chemical enti‑\\nties (NCEs) and 17 new biological entities (NBEs) approved by the Food and Drug Administration (FDA). These drugs \\nare mainly concentrated in oncology, central nervous system, antiinfection, hematology, cardiomyopathy, dermatol‑\\nogy, digestive system, ophthalmology, MRI enhancer and other therapeutic fields. Of the 37 drugs, 25 (68%) were \\napproved through an expedited review pathway, and 19 (51%) were approved to treat rare diseases. These newly \\nlisted drugs have unique structures and new mechanisms of action, which can serve as lead compounds for design‑\\ning new drugs with similar biological targets and enhancing therapeutic efficacy. This review aims to outline the clini‑\\ncal applications and synthetic methods of 19 NCEs newly approved by the FDA in 2022, but excludes contrast agent \\n(Xenon Xe ‑129). We believe that an in‑ depth understanding of the synthetic methods of drug molecules will provide \\ninnovative and practical inspiration for the development of new, more effective, and practical synthetic techniques. \\nAccording to the therapeutic areas of these 2022 FDA‑approved drugs, we have classified these 19 NCEs into seven \\ncategories and will introduce them in the order of their approval for marketing.\\nKeywords  FDA, NCEs, Synthesis, Clinical applications, Drugs\\nIntroduction\\nThe pharmaceutical industry is constantly evolving, \\nwith new drugs being developed and approved by the \\nFDA every year. These new drugs offer hope for patients suffering from various diseases and conditions, and they \\nrepresent a significant advancement in medical science. \\nIn 2022, the FDA approved 37 new drugs that have the \\npotential to revolutionize the treatment of various dis -\\neases. Of the 37 new drugs, 20 (54%) new drugs belong \\nto new chemical entity (NCE), and 17 (46%) new drugs \\nbelong to new biological entity (NBE) [1]. As shown in \\nTable S1, we summarized the drug names, research & \\ndevelopment companies, active ingredients, approval \\ndates, indications, and other information of the 37 new \\ndrugs [2]. By analyzing the approved drugs and their \\nindications [3], it can be found that the main therapeutic \\nfield is still oncology, and 10 new oncologic drugs were \\napproved (accounting for 27% of all approved drugs). \\nSeven drugs were approved in the field of the central \\nnervous system (accounting for 19% of the total), five \\ndrugs were approved in the field of dermatology (14%), \\nfour drugs were approved in the field of anti-infective \\n(accounting for 11% of the total), and three drugs were \\napproved in the fields of hematology (accounting for 8% *Correspondence:\\nLu Sun\\nlusun1991@outlook.com\\nSai‑Qi Wang\\nzlyywangsq3925@zzu.edu.cn\\nZhe‑Sheng Chen\\nchenz@stjohns.edu\\n1 College of Chemistry and Chemical Engineering, Zhengzhou Normal \\nUniversity, Zhengzhou 450044, China\\n2 First People’s Hospital of Shangqiu, Henan Province, Shangqiu 476100, \\nChina\\n3 Henan Engineering Research Center of Precision Therapy \\nof Gastrointestinal Cancer, Zhengzhou Key Laboratory for Precision \\nTherapy of Gastrointestinal Cancer, The Affiliated Cancer Hospital \\nof Zhengzhou University & Henan Cancer Hospital, Zhengzhou 450008, \\nChina\\n4 Zhongshan Hospital Affiliated to Dalian University, Dalian 116001, China\\n5 College of Pharmacy and Health Sciences, St. John’s University, Queens, \\nNY 11439, USA', start_char_idx=None, end_char_idx=None, text_template='{metadata_str}\\n\\n{content}', metadata_template='{key}: {value}', metadata_seperator='\\n'),\n",
       " Document(id_='0ca8bda3-22b9-4a63-8a66-9681e906f1f2', embedding=None, metadata={'page_label': '2', 'file_name': 's43556-023-00138-y.pdf'}, excluded_embed_metadata_keys=[], excluded_llm_metadata_keys=[], relationships={}, text='Page 2 of 20 Zhang\\xa0et\\xa0al. Molecular Biomedicine            (2023) 4:26 \\nof the total). Two drugs (5%) were approved in ophthal -\\nmology and metabolism respectively, and one drug (3% of \\nthe total) was approved in the digestive system and cardi -\\nomyopathy respectively. Of these 37 new drugs, up to 25 \\n(68%), new drugs were reviewed and approved through \\nthe FDA Center for Drug Evaluation and Research \\n(CDER) accelerated approval process. These accelerated \\napprovals are divided into the following categories: fast \\ntrack, accelerated approval, priority review, and break -\\nthrough therapy. Among them, 18 new drugs received \\npriority review, 9 new drugs obtained fast track, 4 new \\nDrugs received accelerated approval and 13 new drugs \\nobtained breakthrough therapy, including 6 NCEs and 7 \\nNBEs. It is worth noting that 19 (51%) new drugs were \\napproved to treat rare diseases: For example, Enjaymo is \\nused for the treatment of cold agglutinin disease (CAD), \\na rare, chronic, serious, autoimmune hemolytic anemia \\ndisease [4, 5]; Myelofibrosis (MF) is an uncommon condi -\\ntion characterized by abnormalities in the production of \\nblood cells and the presence of fibrosis in the bone mar -\\nrow [6], and Vonjo received approval to treat primary and \\nsecondary MF in adult patients who have experienced a \\nsubstantial decrease in their platelet levels [7]; Amvut -\\ntra was approved by FDA to treat polyneuropathy of \\nhereditary transthyretin-mediated amyloidosis (ATTR), \\na genetic condition resulting from mutations in the TTR gene [8, 9]. Compared with the 50 drugs approved by \\nthe FDA in 2021 (36 NCEs and 14 NBEs), although the \\nnumber of drugs approved in 2022 is relatively small, \\nthere are still some remarkable achievements. For exam -\\nple, Tirzepatide is the first-in-class glucose-lowering \\ndrug approved in recent years with a new mechanism of \\naction. In addition to type 2 diabetes, it has shown good \\npotential for treating obesity. The HIV-1 capsid inhibitor \\nlenacapavir can be taken once every six months. Deu -\\ncravacitinib, a tyrosine kinase 2 inhibitor used to treat \\npsoriasis, the dual-specificity antibody faricimab-svoa \\nfor the treatment of macular degeneration, and the anti -\\nbody–drug conjugate mirvetuximab soravtansine-gynx \\ntargeting folate receptor alpha to treat platinum-resistant \\novarian cancer have shown good market value.\\nAs far as we know, the study of the synthetic meth -\\nods of new chemical molecules and their mechanisms \\nof action in clinical applications will greatly promote the \\ndevelopment of new drugs, and the summary of newly \\nintroduced drugs will provide innovative and practical \\ninspiration for new drug discovery [10–20]. Therefore, \\nthe purpose of this review is to provide an overview of \\n19 NCEs approved by the FDA in 2022 (Fig.\\xa0 1), with a \\nfocus on the synthesis of these drugs, their mechanism \\nof action, and their potential benefits and risks. The \\nlogical sequence of this review will be to first provide an \\nFig. 1 Chemical structures of FDA‑approved drugs in 2022', start_char_idx=None, end_char_idx=None, text_template='{metadata_str}\\n\\n{content}', metadata_template='{key}: {value}', metadata_seperator='\\n'),\n",
       " Document(id_='20a5031f-4dca-422d-9f0b-f11bda2dd037', embedding=None, metadata={'page_label': '3', 'file_name': 's43556-023-00138-y.pdf'}, excluded_embed_metadata_keys=[], excluded_llm_metadata_keys=[], relationships={}, text='Page 3 of 20\\n Zhang\\xa0et\\xa0al. Molecular Biomedicine            (2023) 4:26 \\n \\noverview of the new drugs approved by the FDA in 2022 \\n(Table S1), followed by a detailed analysis of the 19 NCEs. \\nFinally, the review will conclude with a summary of the \\nkey findings and their implications for healthcare profes -\\nsionals. The review will be of great value to physicians, \\npharmacists, and other healthcare professionals who are \\ninvolved in the treatment of patients with the diseases \\nand conditions targeted by these drugs.\\nAnti‑infective drugs\\nOteseconazole (Vivjoa)\\nOteseconazole, developed by Mycovia, was given prior -\\nity review and approved by the FDA on April 26, 2022, \\nwhich was sold under the brand name Vivjoa, to prevent \\nrecurrent vulvovaginal candidiasis (RVVC) in women \\nwith no reproductive potential [21, 22]. As an orally \\nactive anti-fungal agent, oteseconazole is a highly potent \\nand selective inhibitor of Candida albicans CYP51 with a \\nKi value of below 39\\xa0nM, showing no significant effect on \\nhuman CYP51 [23–25]. Thanks to the tetrazole moiety, \\noteseconazole features high selectivity for fungal CYP51 \\nover human P450s, effectively decreasing off-target \\ninteractions, which is obviously distinct from previously \\ndiscovered azole antifungals [26]. Compared with otesec -\\nonazole, triazole or imidazole-containing fluconazole or \\nketoconazole causes significant drug-drug interactions \\ndue to their effect on human CYPs [27–29]. By targeting \\nCYP5, oteseconazole blocks the transformation of lanos -\\nterol to ergosterol, a sterol necessary for the formation \\nand maintenance of fungal cell membrane integrity, thus \\nexerting antifungal activity toward RVVC-related micro -\\norganisms, including Candida dubliniensis, krusei, lusi -\\ntaniae, albicans, tropicalis, glabrata and parapsilosis [30]. \\nOteseconazole carries a risk of embryo-fetal toxicity and \\nis therefore not permitted for use in women with repro -\\nductive potential [31, 32].\\nThe synthetic method of oteseconazole was reported \\nby Hoekstra, William J. and co-workers (Fig.\\xa0 2) [33]. The \\ncross-coupling reaction of ethyl bromodifluoroacetate \\n(OTES-002) and 2, 5-dibromopyridine (OTES-001) in \\nthe presence of Cu powder in DMSO gives OTES-003. \\nOTES-003 reacts with l-bromo-2,4-difluorobenzene \\n(OTES-004) in methyl tert-butyl ether (MTBE), afford -\\ning OTES-005, which is then subjected to epoxidation \\nreaction in the presence of trimethyl sulfoxonium iodide \\n(TMSOI) and potassium tert-butoxide to afford epoxide \\nOTES-006. Subsequent addition reaction affords race -\\nmic OTES-007. Compound OTES-007 undergoes chiral \\nresolution with di-p-toluoyl-L-tartaric acid (L-DPTTA) \\nin the mix solvents of isopropanol and acetonitrile, fol -\\nlowed by the treatment of trimethylsilyl azide, giv -\\ning tetrazole OTES-009. Finally, OTES-009 undergoes Suzuki–Miyaura reaction with aryl boronic acid OTES-\\n010 to provide coupling compound oteseconazole.\\nVonoprazan, amoxicillin, and\\xa0clarithromycin (Voquezna)\\nVonoprazan was first launched in Japan in February \\n2015 to treat acid-related diseases and as an adjunct \\nto the eradication of Helicobacter pylori [34–36]. As \\na potassium-competitive acid blocker (PCAB), vono -\\nprazan blocks the secretion of gastric acid mediated by \\n H+,  K+-ATPase, which can be regarded as an alternative \\nto proton-pump inhibitors to treat acid-associated disor -\\nders. CYP2C19 genetic polymorphisms show little effect \\non PCABs, which is obviously different from proton-\\npump inhibitors [37]. In addition, vonoprazan exhibits \\n350 times more active than lansoprazole, a proton pump \\ninhibitor, which is attributed to its ability to accumula -\\ntion in the gastric corpus mucosa, especially in parietal \\ncells [38]. In May 2022, Vonoprazan, in combination with \\nclarithromycin and amoxicillin was approved to treat Hel -\\nicobacter pylori infection [39]. These approvals are based \\non the safety and effectiveness data of phalcon-hp phase \\n3 trial, which is the largest registered trial ever conducted \\nin the United States in Helicobacter pylori, and 1046 \\npatients were randomly assigned [40]. In the improved \\nintention to treat population, the two vonoprazan treat -\\nment regimens showed no worse than lansoprazole triple \\ntherapy in patients without clarithromycin or amoxicillin \\nresistant Helicobacter pylori strains at baseline [41]. The \\ncombination of amoxicillin, vonoprazan and clarithromy -\\ncin has been reported to result in an eradication rate of \\nHelicobacter pylori of about 90% [42, 43].\\nAmong the synthetic methods of vonoprazan [44– 46], a \\nrelatively simple method starting from pyridine-3-sulfonyl \\nchloride (VONO-001) is exhibited in Fig.\\xa0 2 [47]. Nucleo -\\nphilic substitution of VONO-001 with 5-(2-fluorophenyl)-\\n1H-pyrrole-3-carbonitrile (VONO-002) gives VONO-003, \\nwhich then undergoes Raney-Ni promoted reduction reac -\\ntion to give amine VONO-004. The resulting product \\nVONO-004 is treated with paraformaldehyde and  NaBH4 \\ngenerating the desired vonoprazan.\\nLenacapavir (Sunlenca)\\nLenacapavir, a first-in-class picomolar inhibitor of \\nHIV-1 capsid protein, is used as a monotherapy, featur -\\ning little cross-resistance with clinically used antiret -\\nroviral agents and extended pharmacokinetics [48, 49]. \\nThe European Commission granted the first worldwide \\napproval of Lenacapavir to treat adults with multidrug-\\nresistant HIV infection on 22 August 2022. On Decem -\\nber 22, 2022, it also received FDA approval to treat HIV \\npatients [50, 51]. Lenacapavir exhibits its anti-HIV-1 \\nactivity through blocking the viral replication of HIV-1 \\nvirus, which is closely related to many processes of viral ', start_char_idx=None, end_char_idx=None, text_template='{metadata_str}\\n\\n{content}', metadata_template='{key}: {value}', metadata_seperator='\\n'),\n",
       " Document(id_='561a728c-907e-49bb-b992-52a9c0ba849d', embedding=None, metadata={'page_label': '4', 'file_name': 's43556-023-00138-y.pdf'}, excluded_embed_metadata_keys=[], excluded_llm_metadata_keys=[], relationships={}, text='Page 4 of 20 Zhang\\xa0et\\xa0al. Molecular Biomedicine            (2023) 4:26 \\nlifecycle: uptake, assembly, and release [52]. The lenaca -\\npavir’s difluorobenzyl ring and CPSF6/Nup153 share the \\nsame binding pocket, with the benzyl groups of F1417 \\nand F321 overlapping [53]. The crystal structure reveals \\nthat six lenacapavir molecules establishes a wide range of interactions with the protein, including cation-π inter -\\nactions, hydrophobic interactions, and hydrogen bonds, \\nthereby interrupting capsid interactions with CPSF6 and \\nNup153. In multiple cell lines, in\\xa0 vitro HIV-1 replica -\\ntion inhibition assays show  EC50 values of ~ 12–314\\xa0pM. Fig. 2 Synthesis of oteseconazole, vonoprazan and lenacapavir', start_char_idx=None, end_char_idx=None, text_template='{metadata_str}\\n\\n{content}', metadata_template='{key}: {value}', metadata_seperator='\\n'),\n",
       " Document(id_='aacf404b-8c38-4994-8d56-055ab1a6ee1b', embedding=None, metadata={'page_label': '5', 'file_name': 's43556-023-00138-y.pdf'}, excluded_embed_metadata_keys=[], excluded_llm_metadata_keys=[], relationships={}, text='Page 5 of 20\\n Zhang\\xa0et\\xa0al. Molecular Biomedicine            (2023) 4:26 \\n \\nLenacapavir exhibits different inhibitory effect at low \\nand high concentrations: it blocks viral nuclear entry at \\n0.5\\xa0nM, while inhibits the reverse transcription and DNA \\nsynthesis at 5–50\\xa0nM [54].\\nThe process route of lenacapavir is described below in \\nFig.\\xa0 2 [55]. The sequence begins with acetylation of com -\\nmercial 2,5-dibromopyridine (LENA-001) with DMF. \\nThis is followed by the condensation with diphenylmeth -\\nanamine (LENA-004) to access the imine LENA-005. \\nNext, LENA-005 is reacted with 1-(bromomethyl)-3,5-di -\\nfluorobenzene (LENA-006) affording LENA-007, which \\nis converted to the amine LENA-008 through N-depro -\\ntection. Racemic LENA-008 undergoes chemical resolu -\\ntion upon treatment with (R)-2-hydroxy-2-phenylacetic \\nacid (LENA-009) to obtain single enantiomer salt \\nLENA-010. Subjection of LENA-010 and 3-methyl-3-\\n(methylsulfonyl)but-1-yne (LENA-011) to Sonogashira \\ncoupling conditions generates the alkyne LENA-012, \\nand this is followed by condensation with the carbox -\\nylic acid LENA-013 in base to provide the amide LENA-\\n014. Suzuki reaction of LENA-014 with the borate \\nester LENA-015 produces the coupling compound \\nLENA-016. This salt is then removed crystalline alco -\\nhol through NaOH followed by nucleophilic substitu -\\ntion with methanesulfonyl chloride yielding LENA-018 \\nwith two methanesulfonyl groups. Sequential removal of one of methanesulfonyl group and acidification produce \\nlenacapavir.\\nCentral nervous system drugs\\nDaridorexant (Quviviq)\\nDaridorexant, the second orexin receptor antagonist after \\nsuvorexant, was approved by the FDA on January 10, \\n2022, for clinical use to treat adult insomnia patients with \\ndifficulties of sleep maintenance and/or sleep onset [56, \\n57]. It was then approved by the European Commission \\non 3 May 2022, making it the first dual orexin receptor \\nantagonist to be approved for marketing [58]. Darido -\\nrexant potently inhibits orexins by working on OX1R \\nand OX2R (Ki = 0.47 and 0.93\\xa0 nM, respectively), which \\nare wake-promoting endogenous ligands and neuropep -\\ntides [59]. Daridorexant is found to decrease overactive \\nwakefulness. Daridorexant has been reported to improve \\ndaytime functioning and sleep in insomnia patients [60]. \\nBefore the approval of daridorexant, two orexin recep -\\ntor antagonists have been marketed, including Mercer’s \\nsuvorexant (approved in 2014) and Eisai’s lemborexant \\n(approved in 2019) [61]. But neither has fared well in the \\nmarket so far.\\nThe synthesis of daridorexant is outlined in Fig.\\xa0 3 \\n[62]. 2-Methyl-L-proline hydrochloride (DARI-001) \\nis treated with di-tert-butyl pyrocarbonate  (Boc2O) in \\n1/1 mixture solvents of MeCN and water, giving N-Boc \\nFig. 3 Synthesis of daridorexant, ganaxolone, and taurursodiol', start_char_idx=None, end_char_idx=None, text_template='{metadata_str}\\n\\n{content}', metadata_template='{key}: {value}', metadata_seperator='\\n'),\n",
       " Document(id_='22af24b7-b680-47e3-aab5-0dde990a9f23', embedding=None, metadata={'page_label': '6', 'file_name': 's43556-023-00138-y.pdf'}, excluded_embed_metadata_keys=[], excluded_llm_metadata_keys=[], relationships={}, text='Page 6 of 20 Zhang\\xa0et\\xa0al. Molecular Biomedicine            (2023) 4:26 \\nprotection product DARI-002. Treatment of DARI-002 \\nwith 6-chloro-2,3-diaminotoluene (DARI-003) under \\ncondensation reaction conditions furnishes amide DARI-\\n004. Next, intramolecular condensation of DARI-004 \\nunder 100\\xa0°C provides DARI-005, which then undergoes \\nN-Boc deprotection and condensation with 5-methoxy-\\n2-(2H-1,2,3-triazol-2-yl)benzoic acid (DARI-007) to pro -\\nvide daridorexant.\\nGanaxolone (Ztalmy)\\nDeveloped by Marinus, Ganaxolone was granted FDA \\napproval as the inaugural treatment specifically indi -\\ncated for seizures in cyclin-dependent kinase-like 5 defi -\\nciency disorder (CDD) [63, 64]. Ganaxolone is one of \\nthe metabolites of progesterone from 3β-methylation of \\nallopregnanolone [63]. Ganaxolone, a new class of neuro -\\nactive steroids, is effective positive allosteric modulators \\nof γ-aminobutyric acid type A (GABAA) receptors [65], \\nwhich has specific and potent efficacy, like its endog -\\nenous counterparts [66]. Ganaxolone exerts its effect by \\nbinding to one specific allosteric binding site of GABAA, \\nwhich is different from that of benzodiazepine [67]. It \\nis characterized by analgesic, sedative, anxiolytic, hyp -\\nnotic, anticonvulsant, and anesthetic properties [68]. It \\nis important to note that antiepileptic medications may \\nincrease the risk of suicidal ideation and suicidal behav -\\nior, and caution should be taken when considering treat -\\nment with ganaxolone [69–71].\\nTo this day, several synthetic methods of ganaxolone \\nhave been reported [72–74], one representative approach \\nis depicted in Fig.\\xa0 3 [72]. Starting with pregnenolone \\n(GANA-001), reduction of double bond with hydro -\\ngen catalyzed by Pd/C affords compound GANA-002. \\nThe subsequent oxidation reaction of GANA-002 with \\nNaOCl and NaBr gives diketone GANA-003, followed \\nby epoxidation reaction to provide epoxide GANA-004. \\nFinally, GANA-004 undergoes NaI promoted ring-open -\\ning producing ganaxolone.\\nSodium phenylbutyrate/taurursodiol (Relyvrio)\\nPhenylbutyric acid, a fatty acid derivative of butyric \\nacid produced by natural fermentation of colon bacte -\\nria, has many cellular and biological effects, such as eas -\\ning inflammation, which is used to treat neurological or \\nurea cycle disorders and inherited metabolic syndrome \\n[75]. Sodium phenylbutyrate is a prodrug of pheny -\\nlacetic acid that quickly metabolizes to its original style \\n[76]. Then, phenylacetate binds to phenylacetyl-CoA, \\nwhich is subjected to acetylation to give phenylacetylglu -\\ntamine, which is ultimately excreted by the kidneys [77]. \\nIn Europe, taurursodiol, a taurine conjugate of ursode -\\noxycholic acid, is utilized for the prevention and treat -\\nment of gallstones due to its antiapoptotic and inhibitory effects on ER stress response [78]. Furthermore, taurur -\\nsodiol has been also investigated in neurodegenerative \\nand inflammatory metabolic diseases due to its array of \\nmolecular properties, such as anti-apoptotic effects [79, \\n80]. Taurursodiol effectively decreases the body choles -\\nterol content and intake of dietary cholesterol by reduc -\\ning intestinal absorption of cholesterol [81]. Relyvrio, an \\nFDA-approved treatment for amyotrophic lateral scle -\\nrosis (ALS), is a blend of sodium phenylbutyrate and \\ntaurursodiol [82, 83]. ALS is so deadly that most patients \\nhave a life expectancy of only 3 to 5\\xa0years after onset of \\nsymptoms, and they typically die from respiratory failure, \\na progressive atrophy of the muscles used for respiration \\n[84–87]. Relyvrio received early FDA approval due to \\nthe highly progressive nature and serious threat of ALS. \\nHowever, Relyvrio prolong patients’ survival by slowing \\nprogression but not cure disease [88, 89].\\nThe synthesis of taurursodiol was disclosed by San -\\ndhill One, LLC in 2022 (Fig.\\xa0 3) [90]. Condensations of \\n3-ketochol-4-enoic acid (TAUR-001) with 2,2-dimethyl-\\n1,3-propanediol (TAUR-002) and MeOH in the presence \\nof p-toluenesulfonic acid (TsOH), giving TAUR-003. \\nSubsequent hydroxylation and oxidation with NHPI \\n(N-hydroxyphthalimide) and pyridinium dichromate \\n(PDC) form TAUR-004. Next, TAUR-004 is reduced with \\n H2, followed by oxidation with pyridinium chlorochro -\\nmate (PCC) to provide TAUR-005 over two steps. Treat -\\nment of compound TAUR-005 with HCOOH provides \\nTAUR-006, in which the carbonyl is deprotected. One of \\nthe carbonyls of TAUR-006 then undergoes reduction, \\nand the ester group is hydrolyzed at the same time, giv -\\ning TAUR-007. After reduction of the other carbonyl, \\ncompound TAUR-008 reacts with taurine sodium salt \\n(TAUR-009), giving taurursodiol.\\nDermatologic drugs\\nAbrocitinib (Cibinqo)\\nOn December 10, 2021, abrocitinib was initially \\napproved by the European Commission to treat adult \\npatients with atopic dermatitis (AD) [91, 92]. On Janu -\\nary 14, 2022, abrocitinib received the FDA approval to \\ntreat patients with refractory moderate-to-severe AD \\nwho have limited or little response to other systemic \\ndrugs [93]. Abrocitinib potently and selectively inhibits \\nJAK1 with an  IC50 value of 29\\xa0nM, which is better than \\nthat of JAK2  (IC50 = 803\\xa0 nM). Abrocitinib exerts anti-\\ninflammatory effects by blocking pro-inflammatory \\ncytokine signaling associated with atopic dermatitis [94]. \\nIt effectively decreases serum markers of atopic dermati -\\ntis inflammation in a dose-dependent manner, including \\ninterleukin-31 (IL-31), thymus and activation-regulated \\nchemokine (TARC), and high-sensitivity C-reactive pro -\\ntein (hsCRP) [95]. Mean absolute lymphocyte counts ', start_char_idx=None, end_char_idx=None, text_template='{metadata_str}\\n\\n{content}', metadata_template='{key}: {value}', metadata_seperator='\\n'),\n",
       " Document(id_='d9dfb6cf-4fe8-485c-87e8-11b01a9f2816', embedding=None, metadata={'page_label': '7', 'file_name': 's43556-023-00138-y.pdf'}, excluded_embed_metadata_keys=[], excluded_llm_metadata_keys=[], relationships={}, text='Page 7 of 20\\n Zhang\\xa0et\\xa0al. Molecular Biomedicine            (2023) 4:26 \\n \\nincreased during two weeks of treatment and returned \\nto baseline after 9\\xa0 months of treatment [93, 96, 97]. \\nAccording to the Phase 3 results, the experimental group \\nshowed significant improvement in disease extent, sever -\\nity, and skin clarity compared to the placebo group, and \\npatients were able to rapidly relieve itching symptoms \\nafter two weeks treatment [94]. It is one of the first oral JAK inhibitors for AD in the United States, and previ -\\nously received FDA breakthrough treatment and priority \\nreview qualifications [98].\\nSeveral synthetic methods of abrocitinib have been \\nreported [ 95, 99–103], one representative synthetic \\nroute is described in Fig.\\xa0 4 [104]. Curtius rearrange -\\nment and addition of 3-oxocyclobutane-1-carboxylic \\nFig. 4 Synthesis of abrocitinib, tapinarof and deucravacitinib', start_char_idx=None, end_char_idx=None, text_template='{metadata_str}\\n\\n{content}', metadata_template='{key}: {value}', metadata_seperator='\\n'),\n",
       " Document(id_='531bfbe8-6f54-492e-b8e8-de7b7838b573', embedding=None, metadata={'page_label': '8', 'file_name': 's43556-023-00138-y.pdf'}, excluded_embed_metadata_keys=[], excluded_llm_metadata_keys=[], relationships={}, text='Page 8 of 20 Zhang\\xa0et\\xa0al. Molecular Biomedicine            (2023) 4:26 \\nacid (ABRO-001) with phenylmethanol (ABRO-002) give \\nABRO-003 [105]. Next, treatment of compound ABRO-\\n003 with monomethylamine in acetic acid, which then \\nundergoes  NaBH4-catalyzed reduction reaction to pro -\\nvide chiral compound ABRO-004. Treatment of ABRO-\\n004 with pyrimidine ABRO-005 in the presence of  K2CO3 \\nprovides the corresponding substitution product ABRO-\\n006, followed by dechlorination and hydrolysis, giving \\nsalt ABRO-007. Finally, treatment of ABRO-007 with \\npropane-1-sulfonyl chloride (ABRO-008) provides nucle -\\nophilic substitution product abrocitinib.\\nTapinarof (Vtama)\\nTapinarof was approved by FDA on May 23, 2022, to \\ntreat plaque psoriasis [106, 107]. Tapiranof was origi -\\nnally identified as a metabolite (3, 5-dihydroxy-4-isopro -\\npyl styrenes) generated by Photorhabdus luminescens, \\na species of gram-negative bacilli living together with \\nallogenic nematodes [108]. As a first-in-class agonist \\nof aryl hydrocarbon receptor (AhR), Tapinarof exhib -\\nits excellent potency toward AhR  (EC50 = 13\\xa0nM), which \\neffectively regulates antioxidant activity and skin barrier \\nprotein expression, and inhibits inflammatory cytokines \\n[109]. Tapinarof directly binds to AhR, thereby activat -\\ning the AhR pathway. Tapinarof induces AhR nuclear \\ntranslocation in immortalized keratinocytes (HaCaT) in \\na dose-dependent manner  (EC50 = 0.16\\xa0 nM). The anti-\\ninflammatory effect of tapinarof may be due to Nrf2, a \\ndownstream effector of AhR, but not all AhR agonists \\ncan activate the pathway [110]. Therefore, the dual AhR/\\nNrf2 action of tapinarof may be responsible for psoriasis \\ntherapy [111].\\nThe total synthesis of tapinarof is depicted in Fig.\\xa0 4 \\n[112]. Methylation of commercially available dimethyl \\nsulfate with 3,5-dihydroxybenzoic acid (TAPI-001), fol -\\nlowed by reaction with isopropyl alcohol in the presence \\nof 60% ~ 80% concentrated sulfuric acid, giving TAPI-003. \\nSubsequently reduction of carboxyl forms alcohol TAPI-\\n004. Next, chlorination of TAPI-004 with hydrochloric \\nacid provides TAPI-005, which then undergoes Wittig-\\nHorner condensation to generate compound TAPI-006. \\nTAPI-006 reacts with benzaldehyde in the presence of \\nNaH and THF under nitrogen atmosphere, affording \\nTAPI-007, which is subjected to demethylation catalyzed \\nby pyridine hydrochloride to afford the target compound \\ntapinarof.\\nDeucravacitinib (Sotyktu)\\nOn September 9, 2022, Deucravacitinib was approved \\nby the FDA to treat moderate-to-severe plaque psoria -\\nsis [113]. Deucravacitinib, a member of the Janus kinase \\n(JAK) family, is a highly potent allosteric inhibitor of \\ntyrosine kinase 2 (TYK2) with an  IC50 value of 1.0\\xa0 nM [114]. It stabilizes an inhibitory interaction between cata -\\nlytic and regulatory domains of the enzyme, which blocks \\nthe activation of Signal Transducers and Activators of \\nTranscription (STATs) and TYK2in cell-based assays \\n[115–117]. The precise mechanism by which inhibit -\\ning the TYK2 enzyme leads to effective treatment in \\npatients with moderate-to-severe plaque psoriasis is still \\nnot fully understood. However, its mechanism is differ -\\nent from other Janus kinase inhibitors targeting the con -\\nserved active domain, thereby exerting its high selectivity \\ntoward TYK2 [118], which is expected to avoid various \\nadverse effects caused by non-selective JAK inhibitors, \\nsuch as kidney and liver dysfunction, and altered triglyc -\\neride and cholesterol level.\\nPreparation of deucravacitinib is outlined in Fig.\\xa0 4 \\n[119]. Chlorodehydration of 4,6-dihydroxypyridazine-\\n3-carboxylate (DEUC-001) with phosphorus oxychloride \\naffords the corresponding dichloride DEUC-002, which \\nundergoes hydrolysis in the presence of lithium bromide \\nand Hunig’s base in aqueous acetonitrile to yield the \\nlithium carboxylate DEUC-003. Nucleophilic aromatic \\nsubstitution with DEUC-004 takes place at C4 position \\nof DEUC-003, in the presence of zinc acetate, leading to \\nthe formation of DEUC-005 as a zinc salt. Subsequent \\ncoupling with cyclopropanecarboxamide (DEUC-006) \\nis catalyzed by palladium acetate and a Josiphos ligand \\nto generate compound DEUC-007. Finally, DEUC-\\n007 undergoes an amidation with methan-d3-amine \\nhydrochloride in the presence of 1-ethyl-3-(3-dimeth -\\nylaminopropyl)carbodiimide hydrochloride (EDC), \\n1-hydroxybenzotriazole (HOBt) and N-methylimidazole \\n(NMI), affording deucravacitinib.\\nHematologic drugs\\nMitapivat (Pyrukynd)\\nMitapivat is the first orally active pyruvate kinase allos -\\nteric activator, which was approved by FDA on Febru -\\nary 17, 2022, to manage hemolytic anemia in individuals \\nwith pyruvate kinase (PK) deficiency [120–122]. Mitapi -\\nvat activates PK through allosteric regulation, binding \\nto a distinct allosteric site on the PKR tetramer separate \\nfrom fructose bisphosphate FBP [123]. The red blood cell \\n(RBC) form of PK is mutated in PK deficiency, resulting \\nin shortened RBC lifespan, reduced adenosine triphos -\\nphate (ATP), and chronic hemolysis [124]. Mitapivat \\nincreases its affinity for its substrate and stabilizes phos -\\nphoenolpyruvate by binding to pyruvate kinase [120]. \\nMitapivat increases ATP production and erythrocyte \\npyruvate kinase activity (wild-type and mutant forms) \\nbut reduces levels of 2,3-DPG [123]. Mitapivat has also \\nbeen investigated in other genetic disorders affecting red \\nblood cells and causing hemolytic anemia, such as α-/β-\\nthalassemia and sickle cell disease [123].', start_char_idx=None, end_char_idx=None, text_template='{metadata_str}\\n\\n{content}', metadata_template='{key}: {value}', metadata_seperator='\\n'),\n",
       " Document(id_='7bd0cca2-6c69-4d2d-b94e-7fff0be31a85', embedding=None, metadata={'page_label': '9', 'file_name': 's43556-023-00138-y.pdf'}, excluded_embed_metadata_keys=[], excluded_llm_metadata_keys=[], relationships={}, text='Page 9 of 20\\n Zhang\\xa0et\\xa0al. Molecular Biomedicine            (2023) 4:26 \\n \\nThe preparation of mitapivat developed by Agios is \\nshown in Fig.\\xa0 5 [125, 126]. Starting with ethyl 4-amin -\\nobenzoate (MITA-001), a nucleophilic substitution reac -\\ntion with quinoline-8-sulfonyl chloride (MITA-002), \\nfollowed by NaOH promoted hydrolysis, giving MITA-\\n004. Finally, the condensation of MITA-004 with \\n1-(cyclopropylmethyl)piperazine (MITA-005) in the \\npresence of 1,1’-carbonyldiimidazole (CDI) gives the \\ndesired mitapivat.\\nPacritinib (Vonjo)\\nOn February 28, 2022, the FDA granted accelerated \\napproval to Pacritinib, a highly effective inhibitor of JAK2 \\nand FMS-like tyrosine kinase 3 (FLT3), which was used \\nto treat adult patients with low platelets who suffer from \\nintermediate or high-risk primary or secondary myelofi -\\nbrosis (MF) [127, 128]. Pacritinib potently inhibits wild-\\ntype JAK2  (IC50 = 23\\xa0 nM),  JAK2V617F  (IC50 = 19\\xa0 nM), \\nFLT3  (IC50 = 22\\xa0nM), and  FLT3D835Y  (IC50 = 6\\xa0nM) [129], \\nwhich benefits the signaling of many growth factors and \\ncytokines associated with immune and hematopoiesis \\nfunction. MF is closely related to dysregulated JAK2 sign -\\naling. Pacritinib carries significant selectivity for JAK2 \\nover JAK3 and TYK2, and does not inhibit JAK1 at clini -\\ncally relevant concentrations [130].\\nPacritinib demonstrates a dose-dependent suppres -\\nsion of signal transducer and activator of transcription \\n5 (STAT5) phosphorylation in expanded erythroid pro -\\ngenitor cells obtained from healthy individuals [131]. \\nA single 400\\xa0 mg dose of pacritinib moderately inhib -\\nits STAT3 phosphorylation induced by interleukin 6 in \\nthe whole blood of healthy subjects [132, 133]. Pacri -\\ntinib is administered orally twice daily and is contrain -\\ndicated in patients with renal insufficiency and hepatic insufficiency. It offers an alternative for MF patients with \\nsevere thrombocytopenia, commonly carrying a pretty \\npoor prognosis [134].\\nAlthough several synthetic routes to pacritinib have \\nbeen reported [135, 136], an efficient approach has been \\ndisclosed in Fig.\\xa0 5 [137]. Substitution of 3-(2-chloropy -\\nrimidin-4-yl)benzaldehyde (PACR-001) with 5-amino-\\n2-(2-chloroethoxy)benzaldehyde (PACR-002), followed \\nby N-Boc protection of compound PACR-003 with di-\\ntert-butyl pyrocarbonate, generating the key intermedi -\\nate PACR-004. Further  NaBH4 promoted reduction of \\nPACR-004 furnishes PACR-005. Treatment of PACR-\\n005 with (E)-1,4-dibromobut-2-ene (PACR-006) in basic \\nsolution gives the ring-closing product PACR-007, which \\nundergoes nucleophilic substitution reaction with pyrro -\\nlidine (PACR-008) to provide the desired pacritinib.\\nOncologic drugs\\nLutetium (177Lu) vipivotide tetraxetan (Pluvicto)\\nAs a radioligand therapeutic agent, lutetium (177Lu) \\nvipivotide tetraxetan consists of a radionuclide, \\nlutetium Lu-177, conjugated to a prostate-specific \\nmembrane antigen (PSMA)-binding moiety, exercis -\\ning cytotoxic effect on cancer cells [138, 139]. The \\nβ-negative emission of lutetium Lu-177 irradiates \\nPSMA-expressing cells and surrounding cells, thereby \\ninducing DNA damage and cell death. In a clinical \\ntrial, it was discovered that Lutetium (177Lu) vipivotide \\ntetraxetan exhibited a significant correlation with an \\n80.4% decrease in serum PSA levels. Additionally, the \\nmedian progression-free survival for these patients was \\ndetermined to be 13.7\\xa0 months [140]. Following other \\ntherapies, it was granted FDA approval on March 23, \\n2022, to treat metastatic castration-resistant prostate \\nFig. 5 Synthesis of mitapivat and pacritinib', start_char_idx=None, end_char_idx=None, text_template='{metadata_str}\\n\\n{content}', metadata_template='{key}: {value}', metadata_seperator='\\n'),\n",
       " Document(id_='b2e295ba-136b-4710-a938-60b2f5713015', embedding=None, metadata={'page_label': '10', 'file_name': 's43556-023-00138-y.pdf'}, excluded_embed_metadata_keys=[], excluded_llm_metadata_keys=[], relationships={}, text='Page 10 of 20 Zhang\\xa0et\\xa0al. Molecular Biomedicine            (2023) 4:26 \\ncancer with prostate-specific membrane antigen posi -\\ntivity [141]. This approval is based on the positive \\nresults of phase 3 clinical trial, which showed that the \\naddition of Pluvicto reduced the risk of patient death \\nby 38% compared to standard therapy and that Plu -\\nvicto also significantly reduced the risk of patients \\ndeveloping radiographic disease progression or death \\n[142]. Furthermore, in patients with evaluable disease \\nat baseline, the overall remission rate was 30% in the \\nPluvicto group, compared to 2% in the standard treat -\\nment control group [143]. In October 2022, the Com -\\nmittee for Medicinal Products for Human Use (CHMP) of the European Medicines Agency (EMA) issued a \\nrecommendation for the authorization of marketing \\nfor a therapeutic intervention targeting prostate cancer \\n[144].\\nPreparation of lutetium (177Lu) vipivotide tetraxetan \\nis depicted in Fig.\\xa0 6 [145, 146]. Starting from 2-chlotro -\\ntrityl chloride (2-CT) resin, installation of LUTE-001 is \\naccomplished in the presence of DCM to furnish LUTE-\\n002. From LUTE-002, condensation with isocyanic acid \\nLUTE-003 provides the intermediate LUTE-004. Treat -\\nment of LUTE-004 with Pd[P(C6H5)3]4 and morpho -\\nline, followed by condensation with Fmoc-L-2-NaI-OH, \\nFig. 6 Synthesis of lutetium (177Lu) vipivotide tetraxetan, futibatinib and olutasidenib', start_char_idx=None, end_char_idx=None, text_template='{metadata_str}\\n\\n{content}', metadata_template='{key}: {value}', metadata_seperator='\\n'),\n",
       " Document(id_='a4cf054c-35ba-4dd3-8f64-ba03bad3293e', embedding=None, metadata={'page_label': '11', 'file_name': 's43556-023-00138-y.pdf'}, excluded_embed_metadata_keys=[], excluded_llm_metadata_keys=[], relationships={}, text='Page 11 of 20\\n Zhang\\xa0et\\xa0al. Molecular Biomedicine            (2023) 4:26 \\n \\nforming LUTE-006. Following the same procedure, \\nLUTE-007 is synthesized. Further condensation and \\nradiolabelling with 177Lu give Lutetium (177Lu) vipivotide \\ntetraxetan.\\nFutibatinib (Lytgobi)\\nOn September 30, 2022, the FDA granted approval to \\nFutibatinib, a permanent inhibitor of Fibroblast Growth \\nFactor receptor (FGFR), for the treatment of intrahepatic \\ncholangiocarcinoma that contains FGFR2 gene fusions \\nor other genetic rearrangements [147]. Futibatinib effec -\\ntively inhibits FGFR 1–4  (IC50 = 3.9, 1.3, 1.6, and 8.3\\xa0nM), \\nrespectively, by forming a covalent bond with cysteine in \\nthe ATP-binding pocket of FGFR kinase domain [148–\\n150]. In addition, Futibatinib exhibits similar inhibitory \\npotency toward wild-type (WT) and mutant FGFR2 \\nwith  IC50 values of 0.9\\xa0nM, 1–3\\xa0nM, 3.6\\xa0nM, and 2.4\\xa0nM \\nagainst WT FGFR2, V5651, N550H, and E566G, respec -\\ntively [148–150]. FGFR plays a crucial role in cell dif -\\nferentiation, survival, proliferation, and migration, and \\naberrant signaling pathways and genomic aberrations \\ncommonly occur in a variety of cancers since the survival \\nand proliferation of malignant cells can be supported by \\nFGFR signaling [148, 151]. Futibatinib efficiently inhib -\\nits the phosphorylation of FGFR and subsequent signal -\\ning pathways. This inhibition leads to a decrease in the \\nsurvival of cancer cells harboring FGFR rearrangements, \\nfusions, mutations, and amplifications in xenograft mod -\\nels derived from mice and rats [152]. In the end, futi -\\nbatinib effectively decreases the survival of cancer cells \\nwith FGFR alterations, such as FGFR fusions or rear -\\nrangements, amplifications, and mutations [153].\\nFutibatinib is prepared as described in Fig.\\xa0 6 [154]. \\nSonogashira coupling between FUTI-001 and l-ethynyl-\\n3,5-dimethoxybenzene (FUTI-002) gives compound \\nFUTI-003, followed by the treatment of FUTI-003 with \\n3-chloropropionyl chloride (FUTI-004), affording the \\nproduct futibatinib.\\nOlutasidenib (Rezlidhia)\\nOn December 1, 2022, the FDA granted approval to \\nolutasidenib, a highly effective inhibitor of isocitrate \\ndehydrogenase-1 (IDH1), to treat relapsed or refrac -\\ntory acute myeloid leukemia (AML) in adults who pos -\\nsess a susceptible IDH1 mutation [155, 156]. Normally, \\nIDH1 catalyzes mediated the conversion of isocitrate to \\nα-ketoglutarate (α-KG) through oxidative decarboxy -\\nlation reaction [157]. However, IDH1 mutations are \\ncommonly observed in the catalytic sites of arginine in \\nvarious cancers, such as AML, and stimulate the transfer \\nof α-KG to 2-hydroxyglutarate (2-HG) [158]. This leads \\nto 2-HG increase, which is closely related to the inhibi -\\ntion of α-KG-dependent mechanisms, such as collagen synthesis, epigenetic regulation, and cell signaling. Oluta -\\nsidenib effectively decreases 2-HG levels by selectively \\ntargeting mutant IDH1, leading to the restoration of \\nnormal cell differentiation and offering therapeutic \\nadvantages in IDH1 mutant strains. Additionally, oluta -\\nsidenib is currently investigated to treat myelodysplastic \\nsyndromes (MDS), as well as solid tumors and gliomas \\n(NCT03684811) [159–161].\\nThe synthetic route of olutasidenib as described in the \\npublication is shown in Fig.\\xa0 6 [162]. N-oxidation of com -\\nmercially available 5-fluoropicolinonitrile (OLUT-001) \\nfollowed by reflux of the N-oxide (OLUT-002) in acetic \\nanhydride give the acetate OLUT-003. Base-mediated \\nhydrolyzation and tautomerism of OLUT-003, followed \\nby N-methylation with methyl iodide provide N-meth -\\nylated compound OLUT-005. Finally, the condensa -\\ntion of OLUT-005 with the amine OLUT-006 affords \\nolutasidenib.\\nOf note, the preparation of the amine OLUT-006 \\narises from commercially available quinoline aldehyde \\nOLUT-007, which is first condensed with (R)-tert-\\nbutanesulfinamide (OLUT-008) to obtain the chiral \\n(R)-N-tert-butanesulfinimine (OLUT-009) in 81% yield \\n(Fig.\\xa0 7). Next, an addition reaction of OLUT-009 and \\nmethylmagnesium bromide in dichloromethane is \\nemployed to yield the intermediate OLUT-010 as the \\nmajor diastereoisomer (98:2 dr). Removal of the sulfonyl \\ngroup using hydrochloric acid provides the intermediate \\nOLUT-006 in quantitative yield.\\nAdagrasib (Krazati)\\nAdagrasib, an orally bioavailable inhibitor of KRAS, was \\ndeveloped by Mirati. On December 12, 2022, Therapeu -\\ntics obtained accelerated FDA approval to treat KRAS \\nG12C-mutated locally advanced or metastatic non-small \\ncell lung cancer in adults who have undergone at least \\none prior systemic therapy [163–165]. Normally, activa -\\ntion of KRAS through binding to guanosine triphosphate \\n(GTP) stimulates the activation of intracellular signal \\ntransduction and MAP kinase pathway. Hydrolyzation \\nof GTP gives guanosine diphosphate (GDP) and KRAS \\nrestores the inactive state [166]. Cysteine substitution of \\nGly12 in KRAS (KRASG12C) damages GTP hydrolysis \\nand keeps KRAS in active form, which results in uncon -\\ntrolled cell growth and proliferation as well as malig -\\nnant transformation [167]. Adagrasib covalently and \\nselectively binds to KRASG12C and locks it in the inac -\\ntive state, thus exerting anti-tumor activity by inhibiting \\ntumor cell viability and growth [168].\\nThe synthesis of adagrasib begins by condensing \\nethyl 1-benzyl-3-oxopiperidine-4-carboxylate (ADAG-\\n001) with urea. This reaction forms ADAG-002, which \\nis a bicyclic diol. ADAG-002 is then chlorinated using ', start_char_idx=None, end_char_idx=None, text_template='{metadata_str}\\n\\n{content}', metadata_template='{key}: {value}', metadata_seperator='\\n'),\n",
       " Document(id_='4ffae2c4-a4e3-4d12-8b00-ddc00bead98f', embedding=None, metadata={'page_label': '12', 'file_name': 's43556-023-00138-y.pdf'}, excluded_embed_metadata_keys=[], excluded_llm_metadata_keys=[], relationships={}, text='Page 12 of 20 Zhang\\xa0et\\xa0al. Molecular Biomedicine            (2023) 4:26 \\n POCl3 to produce pyrimidine (ADAG-003) (Fig.\\xa0 7) \\n[169]. Next, treatment of intermediate ADAG-003 with \\nsodium methoxide in methanol, followed by Buchwald \\ncoupling with (S )-(1-methylpyrrolidin-2-yl)methanol \\n(ADAG-005), gives compound ADAG-006. N -deben -\\nzylation of ADAG-006 in the presence of hydrogen \\ncatalyzed by Pd(OH)/C affords the amine ADAG-007, \\nwhich is treated with 1-bromo-8-chloronaphthalene (ADAG-008) under Buchwald-Hartwig amination \\nconditions to give the N -arylated product ADAG-009. \\nDemethylation and subsequent triflate formation pro -\\nvide ADAG-011, which reacts with (S )-2-(piperazin-\\n2-yl)acetonitrile (ADAG-012) affording the advanced \\nintermediate ADAG-013. It then undergoes ammon -\\nolysis with 2-fluoroacrylic acid using T3P as the cou -\\npling reagent to obtain adagrasib [170].Fig. 7 Synthesis of adagrasib, mavacamten and terlipressin', start_char_idx=None, end_char_idx=None, text_template='{metadata_str}\\n\\n{content}', metadata_template='{key}: {value}', metadata_seperator='\\n'),\n",
       " Document(id_='fd008414-e430-4207-96af-83a71f55705c', embedding=None, metadata={'page_label': '13', 'file_name': 's43556-023-00138-y.pdf'}, excluded_embed_metadata_keys=[], excluded_llm_metadata_keys=[], relationships={}, text='Page 13 of 20\\n Zhang\\xa0et\\xa0al. Molecular Biomedicine            (2023) 4:26 \\n \\nOther drugs\\nMavacamten (Camzyos)\\nMavacamten was approved by US FDA in 2022, which is \\nused to treat adult patients with obstructive hypertrophic \\ncardiomyopathy (oHCM) who are experiencing symp -\\ntoms and fall into New York Heart Association (NYHA) \\nclass II-III [171, 172]. Mavacamten is a medication that \\ncan be taken by mouth. It acts as an inhibitor of cardiac \\nmyosin, which is a protein involved in muscle contrac -\\ntion in the heart. This medication works by regulating \\nthe number of myosin heads that can enter the \"on actin\" \\nstates, effectively reducing the likelihood of generat -\\ning force during systole (contraction) and residual force \\nduring diastole (relaxation) across the bridge. Addition -\\nally, its inhibitory effects are reversible, meaning that its \\naction can be reversed if necessary [173]. HCM is char -\\nacterized by the presence of excessive formation of myo -\\nsin actin bridges and dysregulation of the hyperrelaxation \\nstate [174]. Mavacamten transforms the total amount of \\nmyosin into an energy-saving, absorbable, ultra-relaxed \\nstate [175]. Inhibition of myosin with Mavacamten \\nreduced dynamic left vein obstruction and improved \\ncardiac filling pressure in patients with HCM. It has \\nbeen reported that the  IC50 values of Mavacamten in the \\nbovine, human, and rabbit system are 490\\xa0nM, 711\\xa0nM, \\nand 2140\\xa0nM, respectively, indicating a 4-fold selectivity \\nfor myocardial myosin [176–178]. Mavakamten is found \\nto reduce contractility through decreasing the activity \\nof adenosine triphosphatase in the heavy chain of myo -\\ncardial myosin [179]. Long-term administration results \\nin the inhibition of the development of myocardial cell \\ndisorders, myocardial hypertrophy, and myocardial fibro -\\nsis, and attenuates the gene expression of profibrotic \\nand hypertrophic in mice featuring heterozygous human \\nmutations in the chain of myosin heavy [176].\\nA convenient synthetic method of mavacamten was \\ndisclosed in 2014 (Fig.\\xa0 7) [180]. Addition of commercially \\navailable isopropylamine (MAVA-001) with trimethyl -\\nsilyl isocyanate (MAVA-002), followed by the annula -\\ntion reaction with dimethyl malonate in the presence of \\nsodium methoxide and methanol, giving MAVA-003. \\nSubsequently, chlorination forms compound MAVA-\\n005. Finally, the coupling of MAVA-005 with (S)-α-\\nmethylbenzylamine (MAVA-006) in dioxane under 90\\xa0°C \\nprovides desired mavacamten.\\nTerlipressin (Terlivaz)\\nTerlipressin, a medication aimed at enhancing kidney \\nfunction in adult patients with hepatorenal syndrome \\nexperiencing a rapid decline in kidney function, obtained \\nFDA approval on September 14, 2022 [181, 182]. Terlipressin, an analog of vasopressin, is an endogenous \\nneurohormone that acts as a vasoconstrictor [183–188]. \\nAs a prodrug of lysine-vasopressin, terlipressin itself is \\npharmacologically active, characterized by a longer half-\\nlife and higher selectivity for V1 receptor than vasopres -\\nsin, which controls acute variceal bleeding, and reduces \\nthe splanchnic blood flow and portal pressure [189]. \\nThese favorable pharmacokinetic and molecular proper -\\nties of terlipressin confer several advantages, such as con -\\nvenience in patients with limited intravenous access and \\nprevention of rebound hypotension upon discontinua -\\ntion [188, 190].\\nPreparation of terlipressin is described in Fig.\\xa0 7 [191]. \\nCondensation of thioester TERL-001 and N-terminal \\ncysteine TERL-002 furnishes TERL-003 in the presence \\nof 3-(N-morpholino)propanesulfonic (MOPS) and cata -\\nlytic guanidine. Subsequent condensation of TERL-003 \\nwith Boc-Cys(trt)-OH TERL-004 and N-Boc deprotec -\\ntion furnish TERL-005, further guanidine-catalyzed con -\\ndensation with TERL-006 gives TERL-007. Oxidation of \\nTERL-007 in MeCN/H2O gives terlipressin.\\nGadopiclenol (Elucirem)\\nGadopiclenol, a gadolinium-based contrast agent \\n(GBCA), was developed by Guerbet. On September 21, \\n2022, after undergoing a priority review, the FDA granted \\nits approval to the product. Its primary objective is to \\nidentify and display abnormal vascularity lesions in the \\nbody and the central nervous system, in combination \\nwith magnetic resonance imaging (MRI). In 2006, linear \\nGBCA use was linked to nephrogenic systemic fibrosis \\n(NSF) [192–194], a rare disease characterized by harden -\\ning and thickening of the subcutaneous and skin tissue, \\nwhich has not been detected in macrocyclic GBCAs, \\nsuch as gadopiclenol [195]. It should be noted that in NSF \\npatients with impaired drug clearance, a black box warn -\\ning was given to gadopiclenol to remind an increased \\nrisk. Gadopiclenol carries two water molecule exchange \\nsites for increased relaxation and contrast [195]. Com -\\npared with other non-specific GBCAs, gadopiclenol dose \\nis only half of the conventional gadolinium dose, allevi -\\nating practitioners’ concerns about radiation exposure \\n[196]. Variations in radiofrequency signal strength allow \\nvisualization of normal and pathological tissue during \\nMRI, which is characterized by the differences in lon -\\ngitudinal relaxation times (T1) or spin–lattice, proton \\ndensity, or in transverse relaxation times or spin–spin \\n(T2). The T1 and T2 relaxation times can be shortened \\nby Gadopiclenol, resulting in the visualization of target \\ntissues during MRI [197]. The extent of a contrast agent \\naffecting the tissue water relaxation rate (1/T1 or 1/T2) \\nis expressed in terms of the relaxation rate (r1 or r2). The ', start_char_idx=None, end_char_idx=None, text_template='{metadata_str}\\n\\n{content}', metadata_template='{key}: {value}', metadata_seperator='\\n'),\n",
       " Document(id_='b4366878-d2ad-4c70-8c76-154657805902', embedding=None, metadata={'page_label': '14', 'file_name': 's43556-023-00138-y.pdf'}, excluded_embed_metadata_keys=[], excluded_llm_metadata_keys=[], relationships={}, text='Page 14 of 20 Zhang\\xa0et\\xa0al. Molecular Biomedicine            (2023) 4:26 \\nhigh r1 relaxation rate and kinetic stability of gadopi -\\nclenol allow it to be used at lower doses than traditional \\nextracellular GBCAs. What deserves special vigilance is \\nthat acute kidney injury and hypersensitivity reactions \\nmay also occur with gadopiclenol [198].\\nThe reported synthesis of gadopiclenol was reported \\nby Marc, in 2007 (Fig.\\xa0 8) [199]. Treatment of compound \\nGADO-001 with 3-aminopropyl-1,2-diol (GADO-002) in \\nthe presence of HOBt and EDC gives gadopiclenol.\\nOmidenepag isopropyl (Omlonti)\\nOmidenepag isopropyl, approved in Japan in 2018 as a \\npotent agonist of EP2 receptor to treat ocular hyperten -\\nsion and glaucoma [200], was then approved by FDA on \\nSeptember 22, 2022, to lower high intraocular pressure \\nin individuals diagnosed with ocular hypertension or \\nopen-angle glaucoma. Omidenepag isopropyl is rap -\\nidly metabolized to its active metabolite omidenepag, \\nwhich binds strongly to prostaglandin E2 (EP2) recep -\\ntor (Ki = 3.6\\xa0 nM) [201]. Furthermore, Omidenepag is \\nhighly agonistic at the EP2 receptor  (EC50 = 8.3\\xa0 nM) but has little effect on other receptors such as prosta -\\nglandin E1 (EP1) or F receptors (FP) [200, 202, 203]. \\nUnlike omidenepag, omidenepag isopropyl has little \\nor no affinity for prostaglandin receptors [200, 203]. \\nEP2 receptor exists in different kinds of ocular tissues \\nrelated to aqueous humor dynamics, such as ciliary \\nmuscle (CM) and trabecular meshwork (TM) [204]. \\nStimulation of EP2 receptors may result in increased \\nintracellular cyclic adenosine monophosphate (cAMP), \\nleading to relaxation of CM and TM tissues [205]. \\nOmidenepag has shown comparable efficacy in low -\\nering IOP to latanoprost, a prostaglandin FP receptor \\nagonist, which is a first-line treatment for primary ocu -\\nlar hypertension and open-angle glaucoma [206].\\nPreparation of omidenepag isopropyl is depicted in \\nFig.\\xa0 8 [202]. Treatment of OMID-001 with 1-(4-(bro -\\nmomethyl)phenyl)-1H -pyrazole (OMID-002) provides \\nthe corresponding coupling product OMID-003, fol -\\nlowed by HCl-promoted hydrolysis and N -Boc depro -\\ntection, producing omidenepag. Esterification of \\nFig. 8 Synthesis of gadopiclenol and omidenepag isopropyl', start_char_idx=None, end_char_idx=None, text_template='{metadata_str}\\n\\n{content}', metadata_template='{key}: {value}', metadata_seperator='\\n'),\n",
       " Document(id_='47db7bf2-cbc7-4d1c-a809-67f39e62bb5c', embedding=None, metadata={'page_label': '15', 'file_name': 's43556-023-00138-y.pdf'}, excluded_embed_metadata_keys=[], excluded_llm_metadata_keys=[], relationships={}, text='Page 15 of 20\\n Zhang\\xa0et\\xa0al. Molecular Biomedicine            (2023) 4:26 \\n \\nomidenepag with isopropyl alcohol in dioxane yields \\nomidenepag isopropyl.\\nConclusion and\\xa0prospect\\nIn conclusion, in 2022, FDA approved 37 new drugs, \\nincluding 20 NCEs, 7 monoclonal antibodies (mAbs), 3 \\nbispecific antibodies (BsAbs), 2 enzymes, 1 fusion pro -\\ntein, 1 synthetic polypeptide, 1 small interfering RNA \\n(siRNA), 1 toxin, 1contrast agent and a colony stimu -\\nlating factor (CSF). In the context of the COVID-19 \\npandemic, FDA is still committed to supporting the \\ndevelopment of rare disease drugs. The field of anti-\\ntumor is still a hot area for innovative drug develop -\\nment. These approved new drugs will benefit patients \\nsuffering from orphans, cancer, nervous system dis -\\neases, infectious diseases, and many other diseases.\\nIn this review, we summarized the clinic applica -\\ntion and synthetic routes of the 19 NCEs of new drugs \\napproved by the FDA. The pharmacophore library will \\nbe enriched and new drug discovery will be benefited by \\nthe presence of privileged scaffolds in these drug mol -\\necules. For example, me-better drug omidenepag iso -\\npropyl is developed based on the molecular structure of \\nCP-533,536, which was reported by previous research -\\ners and optimized through the structural modification \\nof PGE2 [202]. The AIDS prevention drug lenacapavir \\nis developed based on the structure of PF-3450074. In \\norder to block the unstable metabolic site, researchers \\nfocused on introducing electron-withdrawing groups \\n(halogens and sulfonyl groups) and metabolically sta -\\nble rigid ring systems (cyclopropane and pyrazole) \\nthrough optimization [207]. Both deucravacitinib and \\nolutasidenib were first screened through high-through -\\nput screening to obtain lead compounds, and their \\nsolubility was improved through SBDD. Adagrasib has \\nincreased its in\\xa0vitro stability in whole blood (WB) by \\nintroducing a fluorine atom at the 2-position of acryla -\\nmide [208].\\nIn addition, we discovered that metal-catalyzed \\ncoupling reactions were utilized in the synthesis of \\npharmaceuticals (such as omidenepag, futibatinib, \\noteseconazole, etc.). Chiral resolution and asymmet -\\nric synthesis were employed for obtaining the single \\nenantiomer of the chiral drugs (such as taurursodiol, \\nganaxolone, and oteseconazole, etc.). Other traditional \\norganic synthetic strategies, such as substitution reac -\\ntion, hydrolysis reaction, Curtius rearrangement, and \\naddition reaction were still used for the synthesis of \\nthese new drug molecules approved by the FDA. The \\nspecial skeletons in the drug molecules enrich the \\neffective pharmacophores, which will help to design \\nnew drugs.Supplementary Information\\nThe online version contains supplementary material available at https:// doi. \\norg/ 10. 1186/ s43556‑ 023‑ 00138‑ y.\\nAdditional file\\xa01. \\nAcknowledgements\\nNot applicable.\\nAuthors’ contributions\\nThe conceptualization of the project was initiated by Zhe ‑Sheng Chen, Jing‑ Yi \\nZhang, and Sai‑ Qi Wang, who also assumed the responsibility of curating \\nand categorizing relevant scholarly resources. Furthermore, Jing‑ Yi Zhang, \\nYa‑Tao Wang and Lu Sun made significant contributions to the generation \\nof graphical illustrations and actively collaborated in the construction of an \\nall‑encompassing tabular framework. All authors have read and approved the \\nfinal manuscript.\\nFunding\\nWe extend our sincere appreciation for the generous financial support \\nreceived from the National Natural Science Foundation of China (No. \\n82103560).\\nAvailability of data and materials\\nNot applicable.\\nDeclarations\\nEthics approval and consent to participate\\nNot applicable.\\nConsent for publication\\nNot applicable.\\nCompeting interests\\nThe authors declare that they have no competing interests.\\nReceived: 11 March 2023   Accepted: 24 July 2023\\nReferences\\n 1. Mullard A. 2022 FDA approvals. Nat Rev Drug Discov. 2023;22(2):83–8. \\nhttps:// doi. org/ 10. 1038/ d41573‑ 023‑ 00001‑3.\\n 2. Food and Drug Administration. Novel Drug Approvals for 2022. https:// \\nwww. fda. gov/ drugs/ new‑ drugs‑ fda‑ cders‑ new‑ molec ular ‑ entit ies‑ \\nand‑ new‑ thera peutic‑ biolo gical‑ produ cts/ novel‑ drug‑ appro  vals‑ 2022. \\nAccessed Dec 31, 2022.\\n 3. Al‑Madhagi HA. FDA‑approved drugs in 2022: A brief outline. Saudi \\nPharm J. 2023;31(3):401–9. https:// doi. org/ 10. 1016/j. jsps. 2023. 01. 007.\\n 4. Gabbard AP , Booth GS. Cold agglutinin disease. Clin Hematol Int. \\n2020;2(3):95–100. https:// doi. org/ 10. 2991/ chi.k. 200706. 001.\\n 5. Dhillon S. Sutimlimab: First approval. Drugs. 2022;82(7):817–23. https:// \\ndoi. org/ 10. 1007/ s40265‑ 022‑ 01711‑5.\\n 6. Tefferi A. The forgotten myeloproliferative disorder: Myeloid metaplasia. \\nOncologist. 2003;8(3):225–31. https:// doi. org/ 10. 1634/ theon colog \\nist.8‑ 3‑ 225.\\n 7. De SK. First approval of pacritinib as a selective janus associated \\nkinase ‑2 inhibitor for the treatment of patients with myelofibrosis. \\nAnticancer Agents Med Chem. 2023;23(12):1355–60. https:// doi. org/ 10. \\n2174/ 18715 20623 66623 03201 20915.\\n 8. Hawkins PN, Ando Y, Dispenzeri A, Gonzalez‑Duarte A, Adams D, Suhr \\nOB. Evolving landscape in the management of transthyretin amyloi‑\\ndosis. Ann Med. 2015;47(8):625–38. https:// doi. org/ 10. 3109/ 07853 890. \\n2015. 10689 49.', start_char_idx=None, end_char_idx=None, text_template='{metadata_str}\\n\\n{content}', metadata_template='{key}: {value}', metadata_seperator='\\n'),\n",
       " Document(id_='10e9f54f-6fc8-4ef9-9cf8-7340b89d15f8', embedding=None, metadata={'page_label': '16', 'file_name': 's43556-023-00138-y.pdf'}, excluded_embed_metadata_keys=[], excluded_llm_metadata_keys=[], relationships={}, text='Page 16 of 20 Zhang\\xa0et\\xa0al. Molecular Biomedicine            (2023) 4:26 \\n 9. Keam SJ. Vutrisiran: First approval. Drugs. 2022;82(13):1419–25. https:// \\ndoi. org/ 10. 1007/ s40265‑ 022‑ 01765‑5.\\n 10. Ding HX, Leverett CA, Kyne RE, Liu KK, Fink SJ, Flick AC, et al. Syn‑\\nthetic approaches to the 2013 new drugs. Bioorg Med Chem. \\n2015;23(9):1895–922. https:// doi. org/ 10. 1016/j. bmc. 2015. 02. 056.\\n 11. Flick AC, Ding HX, Leverett CA, Kyne RE, Liu KK, Fink SJ, et al. Syn‑\\nthetic approaches to the 2014 new drugs. Bioorg Med Chem. \\n2016;24(9):1937–80. https:// doi. org/ 10. 1016/j. bmc. 2016. 03. 004.\\n 12. Flick AC, Ding HX, Leverett CA, Kyne RE, Liu KK, Fink SJ, et al. Synthetic \\napproaches to the new drugs approved during 2015. J Med Chem. \\n2017;60(15):6480–515. https:// doi. org/ 10. 1021/ acs. jmedc hem. 7b000 10.\\n 13. Flick AC, Ding HX, Leverett CA, Fink SJ, O’Donnell CJ. Synthetic \\napproaches to new drugs approved during 2016. J Med Chem. \\n2018;61(16):7004–31. https:// doi. org/ 10. 1021/ acs. jmedc hem. 8b002 60.\\n 14. Flick AC, Leverett CA, Ding HX, McInturff E, Fink SJ, Helal CJ, et al. \\nSynthetic approaches to the new drugs approved during 2017. J Med \\nChem. 2019;62(16):7340–82. https:// doi. org/ 10. 1021/ acs. jmedc hem. \\n9b001 96.\\n 15. Flick AC, Leverett CA, Ding HX, McInturff E, Fink SJ, Helal CJ, et al. Syn‑\\nthetic approaches to new drugs approved during 2018. J Med Chem. \\n2020;63(19):10652–704. https:// doi. org/ 10. 1021/ acs. jmedc hem. 0c003 45.\\n 16. Yuan S, Yu B, Liu HM. New drug approvals for 2019: Synthesis and clini‑\\ncal applications. Eur J Med Chem. 2020;205:112667. https:// doi. org/ 10. \\n1016/j. ejmech. 2020. 112667.\\n 17. Flick AC, Leverett CA, Ding HX, McInturff E, Fink SJ, Mahapatra S, et al. \\nSynthetic approaches to the new drugs approved during 2019. J Med \\nChem. 2021;64(7):3604–57. https:// doi. org/ 10. 1021/ acs. jmedc hem. \\n1c002 08.\\n 18. Yuan S, Luo YQ, Zuo JH, Liu H, Li F, Yu B. New drug approvals for 2020: \\nSynthesis and clinical applications. Eur J Med Chem. 2021;215:113284. \\nhttps:// doi. org/ 10. 1016/j. ejmech. 2021. 113284.\\n 19. Flick AC, Leverett CA, Ding HX, McInturff EL, Fink SJ, Mahapatra S, et al. \\nSynthetic approaches to the new drugs approved during 2020. J Med \\nChem. 2022;65(14):9607–61. https:// doi. org/ 10. 1021/ acs. jmedc hem. \\n2c007 10.\\n 20. Yuan S, Wang DS, Liu H, Zhang SN, Yang WG, Lv M, et al. New drug \\napprovals for 2021: Synthesis and clinical applications. Eur J Med Chem. \\n2023;245(Pt 1):114898. https:// doi. org/ 10. 1016/j. ejmech. 2022. 114898.\\n 21. Hoy SM. Oteseconazole: First approval. Drugs. 2022;82(9):1017–23. \\nhttps:// doi. org/ 10. 1007/ s40265‑ 022‑ 01734‑ y.\\n 22. Sobel JD. Recurrent vulvovaginal candidiasis. Am J Obstet Gynecol. \\n2016;214(1):15–21. https:// doi. org/ 10. 1016/j. ajog. 2015. 06. 067.\\n 23. Garvey E, Hoekstra W, Moore W, Schotzinger R, Long L, Ghannoum \\nM. VT ‑1161 dosed once daily or once weekly exhibits potent efficacy \\nin treatment of dermatophytosis in a guinea pig model. Antimicrob \\nAgents Ch. 2015;59(4):1992–7. https:// doi. org/ 10. 1128/ AAC. 04902‑ 14.\\n 24. Warrilow A, Hull C, Parker J, Garvey E, Hoekstra W, Moore W, et al. The \\nclinical candidate VT ‑1161 is a highly potent inhibitor of Candida \\nalbicans CYP51 but fails to bind the human enzyme. Antimicrob Agents \\nCh. 2014;58(12):7121–7. https:// doi. org/ 10. 1128/ AAC. 03707‑ 14.\\n 25. De SK. Oteseconazole: First approved orally bioavailable and selective \\nCYP51 inhibitor for the treatment of patients with recurrent vulvovagi‑\\nnal candidiasis. Curr Med Chem. 2023;30(37):4170–5. https:// doi. org/ 10. \\n2174/ 09298 67330 66623 02201 30024.\\n 26. Sobel JD, Nyirjesy P . Oteseconazole: An advance in treatment of recur ‑\\nrent vulvovaginal candidiasis. Future Microbiol. 2021;16(18):1453–61. \\nhttps:// doi. org/ 10. 2217/ fmb ‑ 2021‑ 0173.\\n 27. Chang YL, Yu SJ, Heitman J, Wellington M, Chen YL. New facets of \\nantifungal therapy. Virulence. 2017;8(2):222–36. https:// doi. org/ 10. 1080/ \\n21505 594. 2016. 12574 57.\\n 28. Sun G, Thai SF, Lambert GR, Wolf DC, Tully DB, Goetz AK, et al. \\nFluconazole ‑induced hepatic cytochrome P450 gene expression and \\nenzymatic activities in rats and mice. Toxicol Lett. 2006;164(1):44–53. \\nhttps:// doi. org/ 10. 1016/j. toxlet. 2005. 11. 015.\\n 29. Mast N, Zheng W, Stout CD, Pikuleva IA. Antifungal azoles: Structural \\ninsights into undesired tight binding to cholesterol‑metabolizing \\nCYP46A1. Mol Pharmacol. 2013;84(1):86–94. https:// doi. org/ 10. 1124/ \\nmol. 113. 085902.\\n 30. de Oliveira HC, Bezerra BT, Rodrigues ML. Antifungal development and \\nthe urgency of minimizing the impact of fungal diseases on public health. ACS Bio Med Chem Au. 2023;3(2):137–46. https:// doi. org/ 10. \\n1021/ acsbi omedc hemau. 2c000 55.\\n 31. Sobel JD. Candida vulvovaginitis: Treatment. https:// medil ib. ir/ uptod \\nate/ show/ 115170. Accessed Dec 20, 2022.\\n 32. Martens MG, Maximos B, Degenhardt T, Person K, Curelop S, Ghan‑\\nnoum M, et al. Phase 3 study evaluating the safety and efficacy of \\noteseconazole in the treatment of recurrent vulvovaginal candidiasis \\nand acute vulvovaginal candidiasis infections. Am J Obstet Gynecol. \\n2022;227(6):880.e1‑880.e11. https:// doi. org/ 10. 1016/j. ajog. 2022. 07. 023.\\n 33. Hoekstra WJ, Yates CM, Behnke M, Alimardanov A, David SA, \\nFry DF. Preparation of an antifungal tetrazole compound. 2015. \\nWO2015143172A1.\\n 34. Garnock ‑Jones KP . Vonoprazan: First global approval. Drugs. \\n2015;75(4):439–43. https:// doi. org/ 10. 1007/ s40265‑ 015‑ 0368‑z.\\n 35. Suerbaum S, Michetti P . Helicobacter pylori infection. N Engl J Med. \\n2002;347(15):1175–86. https:// doi. org/ 10. 1056/ NEJMr a0205 42.\\n 36. Suzuki S, Kusano C, Horii T, Ichijima R, Ikehara H. The ideal Helico -\\nbacter pylori treatment for the present and the future. Digestion. \\n2022;103(1):62–8. https:// doi. org/ 10. 1159/ 00051 9413.\\n 37. Echizen H. The first ‑in‑class potassium‑ competitive acid blocker, vono ‑\\nprazan fumarate: Pharmacokinetic and pharmacodynamic considera‑\\ntions. Clin Pharmacokinet. 2016;55(4):409–18. https:// doi. org/ 10. 1007/ \\ns40262‑ 015‑ 0326‑7.\\n 38. Sugano K. Vonoprazan fumarate, a novel potassium‑ competitive \\nacid blocker, in the management of gastroesophageal reflux disease: \\nSafety and clinical evidence to date. Therap Adv Gastroenterol. \\n2018;11:1756283X17745776. https:// doi. org/ 10. 1177/ 17562 83x17 \\n745776.\\n 39. Vandecruys P , Baldewijns S, Sillen M, Van Genechten W, Van Dijck P . \\nOteseconazole: a long‑awaited diversification of the antifungal arsenal \\nto manage recurrent vulvovaginal candidiasis (RVVC). Expert Rev Anti \\nInfect Ther. 2023;21(8):799–812. https:// doi. org/ 10. 1080/ 14787 210. 2023. \\n22336 96.\\n 40. Chey WD, Mégraud F, Laine L, López LJ, Hunt B, Smith N, et al. S1382 \\nvonoprazan dual and triple therapy for Helicobacter pylori eradication. \\nAm J Gastroenterol. 2021;116:S634. https:// doi. org/ 10. 14309/ 01. ajg. \\n00007 79060. 18666. 73.\\n 41. Roque ‑Borda CA, Da Silva PB, Rodrigues MC, Di Filippo LD, Duarte \\nJL, Chorilli M, et al. Pharmaceutical nanotechnology: Antimicrobial \\npeptides as potential new drugs against WHO list of critical, high, and \\nmedium priority bacteria. Eur J Med Chem. 2022;241:114640. https:// \\ndoi. org/ 10. 1016/j. ejmech. 2022. 114640.\\n 42. Kiyotoki S, Nishikawa J, Sakaida I. Efficacy of vonoprazan for Helicobacter \\npylori eradication. Intern Med. 2020;59(2):153–61. https:// doi. org/ 10. \\n2169/ inter  nalme dicine. 2521‑ 18.\\n 43. Kakiuchi T, Mizoe A, Yamamoto K, Imamura I, Hashiguchi K, Kawakubo \\nH, et al. Effect of probiotics during vonoprazan‑ containing triple \\ntherapy on gut microbiota in Helicobacter pylori infection: A rand‑\\nomized controlled trial. Helicobacter. 2020;25(3):e12690. https:// doi. \\norg/ 10. 1111/ hel. 12690.\\n 44. Kajino M, Hasuoka A, Tarui N, Takagi T. Preparation of pyrrole derivatives \\nas proton pump inhibitors. 2006. WO2006036024A1.\\n 45. Lu X, Zhang Y, Huo L, Li Z, Zhao Q, Zhou J, et al. A kind of preparation \\nmethod of vonoprazan fumarate. 2015. CN105085484A.\\n 46. Ikemoto T, Mizufune H, Nagata T, Sera M, Fukuda N, Yamasaki T. Process \\nfor the preparation of pyrrole compound. 2010. WO2010098351A1.\\n 47. Geng F, Liu Y, Liu X. Method for preparing vonoprazan fumarate. 2015. \\nCN104860923A.\\n 48. Margot NA, Naik V, VanderVeen L, Anoshchenko O, Singh R, Dvory‑\\nSobol H, et al. Resistance analyses in highly treatment ‑experienced \\npeople with human immunodeficiency virus (HIV) treated with the \\nnovel capsid HIV inhibitor lenacapavir. J Infect Dis. 2022;226(11):1985–\\n91. https:// doi. org/ 10. 1093/ infdis/ jiac3 64.\\n 49. Dvory‑Sobol H, Shaik N, Callebaut C, Rhee MS. Lenacapavir: A first ‑\\nin‑class HIV ‑1 capsid inhibitor. Curr Opin HIV AIDS. 2022;17(1):15–21. \\nhttps:// doi. org/ 10. 1097/ coh. 00000 00000 000713.\\n 50. Zhuang S, Torbett BE. Interactions of HIV ‑1 capsid with host factors \\nand their implications for developing novel therapeutics. Viruses. \\n2021;13(3):417. https:// doi. org/ 10. 3390/ v1303 0417.\\n 51. Margot N, Ram R, Rhee M, Callebaut C. Absence of lenacapavir (GS‑\\n6207) phenotypic resistance in HIV gag cleavage site mutants and in ', start_char_idx=None, end_char_idx=None, text_template='{metadata_str}\\n\\n{content}', metadata_template='{key}: {value}', metadata_seperator='\\n'),\n",
       " Document(id_='1db0eb20-9a33-477b-8aa7-864a292ac7d1', embedding=None, metadata={'page_label': '17', 'file_name': 's43556-023-00138-y.pdf'}, excluded_embed_metadata_keys=[], excluded_llm_metadata_keys=[], relationships={}, text='Page 17 of 20\\n Zhang\\xa0et\\xa0al. Molecular Biomedicine            (2023) 4:26 \\n \\nisolates with resistance to existing drug classes. Antimicrob Agents Ch. \\n2021;65(3):e02057‑ e2120. https:// doi. org/ 10. 1128/ AAC. 02057‑ 20.\\n 52. Bester SM, Wei G, Zhao H, Adu‑Ampratwum D, Iqbal N, Courouble VV, \\net al. Structural and mechanistic bases for a potent HIV ‑1 capsid inhibi‑\\ntor. Science. 2020;370(6514):360–4. https:// doi. org/ 10. 1126/ scien ce. \\nabb48 08.\\n 53. Nka AD, Bouba Y, Teto G, Semengue ENJ, Takou DK, Ngueko AMK, \\net al. Evaluation of HIV ‑1 capsid genetic variability and lenacapavir \\n(GS‑6207) drug resistance ‑associated mutations according to viral \\nclades among drug‑naive individuals. J Antimicrob Chemother. \\n2022;78(1):272–5. https:// doi. org/ 10. 1093/ jac/ dkac3 88.\\n 54. Bester SM, Adu‑Ampratwum D, Annamalai AS, Wei G, Briganti L, \\nMurphy BC, et al. Structural and mechanistic bases of viral resistance \\nto HIV ‑1 capsid inhibitor lenacapavir. mBio. 2022;13(5):e0180422. \\nhttps:// doi. org/ 10. 1128/ mbio. 01804‑ 22.\\n 55. Allan KM, Batten AL, Brizgys G, Dhar S, Doxsee IJ, Goldberg A, \\net al. Methods and intermediates for preparation of antiretroviral \\npyridine derivative useful for treatment of HIV ‑1 infections. 2019. \\nWO2019035973A1.\\n 56. Markham A. Daridorexant: First approval. Drugs. 2022;82(5):601–7. \\nhttps:// doi. org/ 10. 1007/ s40265‑ 022‑ 01699‑ y.\\n 57. Morin AK, Jarvis CI, Lynch AM. Therapeutic options for sleep ‑mainte ‑\\nnance and sleep ‑onset insomnia. Pharmacotherapy. 2007;27(1):89–\\n110. https:// doi. org/ 10. 1592/ phco. 27.1. 89.\\n 58. Roecker AJ, Cox CD, Coleman PJ. Orexin receptor antagonists: New \\ntherapeutic agents for the treatment of insomnia. J Med Chem. \\n2016;59(2):504–30. https:// doi. org/ 10. 1021/ acs. jmedc hem. 5b008 32.\\n 59. Onge ES, Phillips B, Rowe C. Daridorexant: a new dual orexin recep ‑\\ntor antagonist for insomnia. J Pharm Technol. 2022;38(5):297–303. \\nhttps:// doi. org/ 10. 1177/ 87551 22522 11125 46.\\n 60. Roch C, Bergamini G, Steiner MA, Clozel M. Nonclinical pharmacology \\nof daridorexant: A new dual orexin receptor antagonist for the treat ‑\\nment of insomnia. Psychopharmacology. 2021;238(10):2693–708. \\nhttps:// doi. org/ 10. 1007/ s00213‑ 021‑ 05954‑0.\\n 61. Herring WJ, Roth T, Krystal AD, Michelson D. Orexin receptor antago ‑\\nnists for the treatment of insomnia and potential treatment of other \\nneuropsychiatric indications. J Sleep Res. 2019;28(2):e12782. https://  \\ndoi. org/ 10. 1111/ jsr. 12782.\\n 62. Boss C, Brotschi C, Gude M, Heidmann B, Sifferlen T, Von Raumer M, \\net al. Crystalline salt form of (S)‑(2‑(6‑ chloro ‑7‑methyl‑1 h‑benzo[d]\\nimidazol‑2‑ yl)‑2‑methylpyrrolidin‑1‑ yl)(5‑methoxy‑2‑(2H‑1,2,3‑\\ntriazol‑2‑ yl)phenyl)methanone as orexin receptor antagonist. 2015. \\nWO2015083071.\\n 63. Nohria V, Giller E. Ganaxolone. Neurotherapeutics. 2007;4(1):102–5. \\nhttps:// doi. org/ 10. 1016/j. nurt. 2006. 11. 003.\\n 64. Olson HE, Demarest ST, Pestana‑Knight EM, Swanson LC, Iqbal S, Lal \\nD, et al. Cyclin‑ dependent kinase ‑like 5 deficiency disorder: Clinical \\nreview. Pediatr Neurol. 2019;97:18–25. https:// doi. org/ 10. 1016/j. pedia  \\ntrneu rol. 2019. 02. 015.\\n 65. Vaitkevicius H, Ramsay RE, Swisher CB, Husain AM, Aimetti A, Gasior \\nM. Intravenous ganaxolone for the treatment of refractory status \\nepilepticus: Results from an open‑label, dose ‑finding, phase 2 trial. \\nEpilepsia. 2022;63(9):2381–91. https:// doi. org/ 10. 1111/ epi. 17343.\\n 66. Monaghan EP , Navalta LA, Shum L, Ashbrook DW, Lee DA. Initial \\nhuman experience with ganaxolone, a neuroactive steroid with \\nantiepileptic activity. Epilepsia. 1997;38(9):1026–31. https:// doi. org/  \\n10. 1111/j. 1528‑ 1157. 1997. tb014 86.x.\\n 67. Reddy DS, Woodward R. Ganaxolone: A prospective overview. Drugs \\nFuture. 2004;29(3):227–42. https:// doi. org/ 10. 1358/ dof. 2004. 029. 03.  \\n793135.\\n 68. Belelli D, Lambert JJ. Neurosteroids: Endogenous regulators of the \\nGABAA receptor. Nat Rev Neurosci. 2005;6(7):565–75. https:// doi. org/  \\n10. 1038/ nrn17 03.\\n 69. Dichtel LE, Nyer M, Dording C, Fisher LB, Cusin C, Shapero BG, et al. \\nEffects of open‑label, adjunctive ganaxolone on persistent depres‑\\nsion despite adequate antidepressant treatment in postmenopausal \\nwomen: A pilot study. J Clin Psychiatry. 2020;81(4):19m12887. https://  \\ndoi. org/ 10. 4088/ JCP . 19m12 887.\\n 70. Wilkinson ST, Sanacora G. A new generation of antidepressants: \\nAn update on the pharmaceutical pipeline for novel and rapid‑\\nacting therapeutics in mood disorders based on glutamate/GABA neurotransmitter systems. Drug Discov Today. 2019;24(2):606–15. \\nhttps:// doi. org/ 10. 1016/j. drudis. 2018. 11. 007.\\n 71. Gonda X, Dome P , Neill JC, Tarazi FI. Novel antidepressant drugs: \\nBeyond monoamine targets. CNS Spectr. 2023;28(1):6–15. https:// doi.  \\norg/ 10. 1017/ s1092 85292 10007 91.\\n 72. Reddy DS. Preparation of Neurosteroid compounds and use in treat ‑\\ning central nervous system disorders. 2019. WO2019209850A1.\\n 73. Martinez Botella G, Salituro FG, Robichaud AJ, Harrison BL. Preparation \\nof neuroactive steroids, compositions and methods for treating CNS \\ndisorders. 2016. WO2016061527A1.\\n 74. He M ‑h, Liao Q ‑j. Synthesis of ganaxalone. Chin J New Drug. \\n2005;14(8):1025–6.\\n 75. Kusaczuk M, Bartoszewicz M, Cechowska‑Pasko M. Phenylbutyric Acid: \\nSimple structure ‑multiple effects. Curr Pharm Des. 2015;21(16):2147–66. \\nhttps:// doi. org/ 10. 2174/ 13816 12821 66615 01051 60059.\\n 76. Kasumov T, Brunengraber LL, Comte B, Puchowicz MA, Jobbins K, \\nThomas K, et al. New secondary metabolites of phenylbutyrate in \\nhumans and rats. Drug Metab Dispos. 2004;32(1):10–9. https:// doi. org/ \\n10. 1124/ dmd. 32.1. 10.\\n 77. Koetsier MJ, Jekel PA, van den Berg MA, Bovenberg RA, Janssen DB. Charac‑\\nterization of a phenylacetate ‑CoA ligase from Penicillium chrysogenum. \\nBiochem J. 2009;417(2):467–76. https:// doi. org/ 10. 1042/ bj200 81257.\\n 78. Albanese A, Ludolph AC, McDermott CJ, Corcia P , Van Damme P , Van \\nden Berg LH, et al. Tauroursodeoxycholic acid in patients with amyo ‑\\ntrophic lateral sclerosis: The TUDCA‑ALS trial protocol. Front Neurol. \\n2022;13:1009113. https:// doi. org/ 10. 3389/ fneur. 2022. 10091 13.\\n 79. Vang S, Longley K, Steer CJ, Low WC. The unexpected uses of urso ‑and tau‑\\nroursodeoxycholic acid in the treatment of non‑liver diseases. Glob Adv \\nHealth Med. 2014;3(3):58–69. https:// doi. org/ 10. 7453/ gahmj. 2014. 017.\\n 80. Ahn TK, Kim KT, Joshi HP , Park KH, Kyung JW, Choi UY, et al. Thera‑\\npeutic potential of tauroursodeoxycholic acid for the treatment of \\nosteoporosis. Int J Mol Sci. 2020;21(12):4274. https:// doi. org/ 10. 3390/  \\nijms2 11242 74.\\n 81. Lu Q, Jiang Z, Wang Q, Hu H, Zhao G. The effect of tauroursodeoxy‑\\ncholic acid (TUDCA) and gut microbiota on murine gallbladder stone \\nformation. Ann Hepato. 2021;23:100289. https:// doi. org/ 10. 1016/j. \\naohep. 2020. 100289.\\n 82. Heo YA. Sodium phenylbutyrate and ursodoxicoltaurine: First \\napproval. CNS Drugs. 2022;36(9):1007–13. https:// doi. org/ 10. 1007/ \\ns40263‑ 022‑ 00945‑x.\\n 83. Mullard A. Amylyx’s ALS therapy secures FDA approval, as regula‑\\ntory flexibility trumps underwhelming data. Nat Rev Drug Discov. \\n2022;21(11):786. https:// doi. org/ 10. 1038/ d41573‑ 022‑ 00171‑6.\\n 84. Morris J. Amyotrophic lateral sclerosis (ALS) and related motor neuron \\nsiseases: An overview. Neurodiagn J. 2015;55(3):180–94. https:// doi. org/ \\n10. 1080/ 21646 821. 2015. 10751 81.\\n 85. Hardiman O, Al‑ Chalabi A, Chio A, Corr EM, Logroscino G, Robberecht \\nW, et al. Amyotrophic lateral sclerosis. Nat Rev Dis Primers. 2017;3:17071. \\nhttps:// doi. org/ 10. 1038/ nrdp. 2017. 71.\\n 86. Feldman EL, Goutman SA, Petri S, Mazzini L, Savelieff MG, Shaw PJ, et al. \\nAmyotrophic lateral sclerosis. Lancet. 2022;400(10360):1363–80. https:// \\ndoi. org/ 10. 1016/ s0140‑ 6736(22) 01272‑7.\\n 87. Meyer T. Amyotrophic lateral sclerosis (ALS)‑ diagnosis, course of disease \\nand treatment options. Dtsch Med Wochenschr. 2021;146(24/25):1613–\\n8. https:// doi. org/ 10. 1055/a‑ 1562‑ 7882.\\n 88. Paganoni S, Macklin EA, Hendrix S, Berry JD, Elliott MA, Maiser S, et al. \\nTrial of sodium phenylbutyrate ‑taurursodiol for amyotrophic lateral \\nsclerosis. New Engl J Med. 2020;383(10):919–30. https:// doi. org/ 10. \\n1056/ NEJMo a1916 945.\\n 89. Martinez‑ Gonzalez L, Martinez A. Emerging clinical investigational \\ndrugs for the treatment of amyotrophic lateral sclerosis. Expert Opin \\nInvestig Drugs. 2023;32(2):141–60. https:// doi. org/ 10. 1080/ 13543 784. \\n2023. 21784 16.\\n 90. Reid JG, Reddy JP , Paul BJ, Hossain SS. Preparation of cholic acid deriva‑\\ntives. 2022. US20220298202A1.\\n 91. Niculet E, Bobeica C, Stefanopol IA, Pelin AM, Nechifor A, Onisor C, \\net al. Once ‑daily abrocitinib for the treatment of moderate ‑to‑severe \\natopic dermatitis in adults and Adolescents Aged 12 Years and Over: \\nA short review of current clinical perspectives. Ther Clin Risk Manag. \\n2022;18:399–407. https:// doi. org/ 10. 2147/ tcrm. S3386 61.', start_char_idx=None, end_char_idx=None, text_template='{metadata_str}\\n\\n{content}', metadata_template='{key}: {value}', metadata_seperator='\\n'),\n",
       " Document(id_='36583290-31d9-4fbf-a8a5-217548e9df2c', embedding=None, metadata={'page_label': '18', 'file_name': 's43556-023-00138-y.pdf'}, excluded_embed_metadata_keys=[], excluded_llm_metadata_keys=[], relationships={}, text='Page 18 of 20 Zhang\\xa0et\\xa0al. Molecular Biomedicine            (2023) 4:26 \\n 92. Leung DY, Boguniewicz M, Howell MD, Nomura I, Hamid QA. New \\ninsights into atopic dermatitis. J Clin Invest. 2004;113(5):651–7. https:// \\ndoi. org/ 10. 1172/ jci21 060.\\n 93. Perche PO, Cook MK, Feldman SR. Abrocitinib: A new FDA‑approved \\ndrug for moderate ‑to‑severe atopic dermatitis. Ann Pharmacother. \\n2023;57(1):86–98. https:// doi. org/ 10. 1177/ 10600 28022 10967 13.\\n 94. Crowley EL, Nezamololama N, Papp K, Gooderham MJ. Abroci‑\\ntinib for the treatment of atopic dermatitis. Expert Rev Clin Immu. \\n2020;16(10):955–62. https:// doi. org/ 10. 1080/ 17446 66X. 2021. 18280 68.\\n 95. De SK. Abrocitinib: First globally approved selective janus kinase ‑1 inhibitor \\nfor the treatment of atopic dermatitis. CurrMedChem. 2023;30(38):4278–\\n82. https:// doi. org/ 10. 2174/ 09298 67330 66623 02161 23419.\\n 96. Simpson EL, Silverberg JI, Nosbaum A, Winthrop KL, Guttman‑ Yassky E, \\nHoffmeister KM, et al. Integrated safety analysis of abrocitinib for the \\ntreatment of moderate ‑to‑severe atopic dermatitis from the phase II \\nand phase III clinical trial program. Am J Clin Dermatol. 2021;22(5):693–\\n707. https:// doi. org/ 10. 1007/ s40257‑ 021‑ 00618‑3.\\n 97. Iznardo H, Roé E, Serra‑Baldrich E, Puig L. Efficacy and safety of JAK1 \\ninhibitor abrocitinib in atopic dermatitis. Pharmaceutics. 2023;15(2):385. \\nhttps:// doi. org/ 10. 3390/ pharm aceut ics15 020385.\\n 98. Mikhaylov D, Ungar B, Renert ‑Yuval Y, Guttman‑ Yassky E. Oral JAK \\ninhibitors for atopic dermatitis. Ann Allergy Asthma Immunol. \\n2023;130(5):577–92. https:// doi. org/ 10. 1016/j. anai. 2023. 01. 020.\\n 99. Coffman KJ, Duerr JM, Kaila N, Parikh MD, Reese MR, Samad T, et al. \\nPreparation of pyrrolo[2,3‑ d]pyrimidine derivatives and their use as \\nJanus kinase inhibitors. 2016. CA2899888A1.\\n 100. Kumar R, Karmilowicz MJ, Burke D, Burns MP , Clark LA, Connor CG, et al. \\nBiocatalytic reductive amination from discovery to commercial manu‑\\nfacturing applied to abrocitinib JAK1 inhibitor. Nat Catal. 2021;4:775–82.\\n 101. Kocienski P . Synthesis of abrocitinib Synfacts. 2021;17(6):0606. https:// \\ndoi. org/ 10. 1055/s‑ 0040‑ 17197 31.\\n 102. Vazquez ML, Kaila N, Strohbach JW, Trzupek JD, Brown MF, Flanagan ME, \\net al. Identification of N‑{cis‑3‑[methyl(7H‑pyrrolo[2,3‑ d]pyrimidin‑4‑ yl)\\namino]cyclobutyl}propane ‑1‑sulfonamide (PF‑04965842): A selective \\nJAK1 clinical candidate for the treatment of autoimmune diseases. J \\nMed Chem. 2018;61(3):1130–52. https:// doi. org/ 10. 1021/ acs. jmedc \\nhem. 7b015 98.\\n 103. Connor CG, DeForest JC, Dietrich P , Do NM, Doyle KM, Eisenbeis S, \\net al. Development of a nitrene ‑type rearrangement for the com‑\\nmercial route of the JAK1 inhibitor abrocitinib. Org Process Res Dev. \\n2021;25(3):608–15. https:// doi. org/ 10. 1021/ acs. oprd. 0c003 66.\\n 104. Lu X, Zhong Z, Zhang X. Crystal forms of sulfonamide compound and \\npreparation method. 2021. WO2021218948A1.\\n 105. Ghosh AK, Brindisi M, Sarkar A. The Curtius rearrangement: Applications \\nin modern drug discovery and medicinal chemistry. ChemMedChem. \\n2018;13(22):2351–73. https:// doi. org/ 10. 1002/ cmdc. 20180 0518.\\n 106. Keam SJ. Tapinarof cream 1%: First approval. Drugs. 2022;82(11):1221–8. \\nhttps:// doi. org/ 10. 1007/ s40265‑ 022‑ 01748‑6.\\n 107. Mason AR, Mason J, Cork M, Dooley G, Hancock H. Topical treat ‑\\nments for chronic plaque psoriasis. Cochrane Database Syst Rev. \\n2013;3:Cd005028. https:// doi. org/ 10. 1002/ 14651 858. CD005 028. pub3.\\n 108. Bissonnette R, Gold LS, Rubenstein DS, Tallman AM, Armstrong A. Tap ‑\\ninarof in the treatment of psoriasis: A review of the unique mechanism \\nof action of a novel therapeutic aryl hydrocarbon receptor–modulating \\nagent. J Am Acad Dermatol. 2021;84(4):1059–67. https:// doi. org/ 10. \\n1016/j. jaad. 2020. 10. 085.\\n 109. Pecyna P , Wargula J, Murias M, Kucinska M. More than resvera‑\\ntrol: New insights into stilbene ‑based compounds. Biomolecules. \\n2020;10(8):1111. https:// doi. org/ 10. 3390/ biom1 00811 11.\\n 110. Furue M, Hashimoto ‑Hachiya A, Tsuji G. Aryl hydrocarbon receptor in \\natopic dermatitis and psoriasis. Int J Mol Sci. 2019;20(21):5424. https:// \\ndoi. org/ 10. 3390/ ijms2 02154 24.\\n 111. Smith SH, Jayawickreme C, Rickard DJ, Nicodeme E, Bui T, Simmons C, \\net al. Tapinarof is a natural AhR agonist that resolves skin inflammation \\nin mice and humans. J Invest Dermatol. 2017;137(10):2110–9. https:// \\ndoi. org/ 10. 1016/j. jid. 2017. 05. 004.\\n 112. Zhang Y. Clean process for preparation of (E)‑3,5‑ dihydroxy‑4‑isopro ‑\\npyldiphenylethene. 2010. CN101648851A.\\n 113. Hoy SM. Deucravacitinib: First approval. Drugs. 2022;82(17):1671–9. \\nhttps:// doi. org/ 10. 1007/ s40265‑ 022‑ 01796‑ y. 114. Chimalakonda A, Burke J, Cheng L, Catlett I, Tagen M, Zhao Q, et al. \\nSelectivity profile of the tyrosine kinase 2 inhibitor deucravacitinib \\ncompared with janus kinase 1/2/3 inhibitors. Dermatol Ther (Heidelb). \\n2021;11(5):1763–76. https:// doi. org/ 10. 1007/ s13555‑ 021‑ 00596‑8.\\n 115. Catlett I, Aras U, Liu Y, Bei D, Girgis I, Murthy B, et al. SAT0226 A first ‑\\nin‑human, study of BMS‑986165, a selective, potent, allosteric small \\nmolecule inhibitor of tyrosine kinase 2. Ann Rheum Dis. 2017;76(2):859. \\nhttps:// doi. org/ 10. 1136/ annrh eumdis‑ 2017‑ eular. 3809.\\n 116. Wrobleski ST, Moslin R, Lin S, Zhang Y, Spergel S, Kempson J, et al. \\nHighly selective inhibition of tyrosine kinase 2 (TYK2) for the treatment \\nof autoimmune diseases: Discovery of the allosteric inhibitor BMS‑\\n986165. J Med Chem. 2019;62(20):8973–95. https:// doi. org/ 10. 1021/ acs. \\njmedc hem. 9b004 44.\\n 117. Roskoski R Jr. Deucravacitinib is an allosteric TYK2 protein kinase \\ninhibitor FDA‑approved for the treatment of psoriasis. Pharmacol Res. \\n2023;189:106642. https:// doi. org/ 10. 1016/j. phrs. 2022. 106642.\\n 118. Mease PJ, Deodhar AA, van der Heijde D, Behrens F, Kivitz AJ, Neal J, \\net al. Efficacy and safety of selective TYK2 inhibitor, deucravacitinib, in \\na phase II trial in psoriatic arthritis. Ann Rheum Dis. 2022;81(6):815–22. \\nhttps:// doi. org/ 10. 1136/ annrh eumdis‑ 2021‑ 221664.\\n 119. Chen K, Deerberg J, Lin D, Dummeldinger M, Inankur B, Kolotuchin SV, \\net al. A process for the preparation of cyclopropanecarboxamidometh‑\\noxymethyltriazolylphenylaminomethylpyridazinecarboxamide. 2018. \\nWO2018183649A1.\\n 120. Matte A, Federti E, Kung C, Kosinski PA, Narayanaswamy R, Russo \\nR, et al. The pyruvate kinase activator mitapivat reduces hemolysis \\nand improves anemia in a β‑thalassemia mouse model. J Clin Invest. \\n2021;131(10):e144206. https:// doi. org/ 10. 1172/ JCI14 4206.\\n 121. Kung C, Hixon J, Kosinski PA, Cianchetta G, Histen G, Chen Y, et al. \\nAG‑348 enhances pyruvate kinase activity in red blood cells from \\npatients with pyruvate kinase deficiency. Blood. 2017;130(11):1347–56. \\nhttps:// doi. org/ 10. 1182/ blood‑ 2016‑ 11‑ 753525.\\n 122. Rab MA, Van Oirschot BA, Kosinski PA, Hixon J, Johnson K, Chubukov V, \\net al. AG‑348 (mitapivat), an allosteric activator of red blood cell pyruvate \\nkinase, increases enzymatic activity, protein stability, and adenosine \\ntriphosphate levels over a broad range of PKLR genotypes. Haematolog‑\\nica. 2021;106(1):238–49. https:// doi. org/ 10. 3324/ haema tol. 2019. 238865.\\n 123. Al‑Samkari H, van Beers EJ. Mitapivat, a novel pyruvate kinase activator, \\nfor the treatment of hereditary hemolytic anemias. Ther Adv Hematol. \\n2021;12:20406207211066070. https:// doi. org/ 10. 1177/ 20406 20721 \\n10660 70.\\n 124. van Wijk R, van Solinge WW. The energy‑less red blood cell is lost: Eryth‑\\nrocyte enzyme abnormalities of glycolysis. Blood. 2005;106(13):4034–\\n42. https:// doi. org/ 10. 1182/ blood‑ 2005‑ 04‑ 1622.\\n 125. Sizemore JP , Guo L, Mirmehrabi M, Su Y. Preparation of amorphous and \\ncrystalline forms of N‑(4‑(4‑(cyclopropylmethyl)piperazine ‑1‑carbonyl)\\nphenyl)quinoline ‑8‑sulfonamide useful for treatment of pyruvate kinase \\nassociated disorders. 2019. WO2019104134A1.\\n 126. Salituro FG, Saunders JO, Yan S. Preparation of aroylpiperazines and \\nrelated compounds as pyruvate kinase M2 modulators useful in treat ‑\\nment of cancer. 2010. US20100331307A1.\\n 127. Lamb YN. Pacritinib: First approval. Drugs. 2022;82(7):831–8. https:// doi. \\norg/ 10. 1007/ s40265‑ 022‑ 01718‑ y.\\n 128. Genthon A, Killian M, Mertz P , Cathebras P , Gimenez De Mestral S, Guyo ‑\\ntat D, et al. Myelofibrosis: A review. Rev Med Interne. 2021;42(2):101–9. \\nhttps:// doi. org/ 10. 1016/j. revmed. 2020. 08. 018.\\n 129. Hart S, Goh K, Novotny‑Diermayr V, Hu C, Hentze H, Tan Y, et al. SB1518, \\na novel macrocyclic pyrimidine ‑based JAK2 inhibitor for the treatment \\nof myeloid and lymphoid malignancies. Leukemia. 2011;25(11):1751–9. \\nhttps:// doi. org/ 10. 1038/ leu. 2011. 148.\\n 130. Singer JW, Al‑Fayoumi S, Ma H, Komrokji RS, Mesa R, Verstovsek S. \\nComprehensive kinase profile of pacritinib, a nonmyelosuppressive \\njanus kinase 2 inhibitor. J Exp Pharmacol. 2016;8:11–9. https:// doi. org/ \\n10. 2147/ jep. S1107 02.\\n 131. Komrokji RS, Wadleigh M, Seymour JF, Roberts AW, To LB, Zhu HJ, et al. \\nResults of a phase 2 study of pacritinib (SB1518), a novel oral JAK2 \\ninhibitor, in patients with primary, post ‑polycythemia vera, and post ‑\\nessential thrombocythemia myelofibrosis. Blood. 2011;118(21):282.\\n 132. Venugopal S, Mascarenhas J. The odyssey of pacritinib in myelofibrosis. \\nBlood Adv. 2022;6(16):4905–13. https:// doi. org/ 10. 1182/ blood advan ces. \\n20220 07524.', start_char_idx=None, end_char_idx=None, text_template='{metadata_str}\\n\\n{content}', metadata_template='{key}: {value}', metadata_seperator='\\n'),\n",
       " Document(id_='ce2a4f42-6123-46ff-84cb-57603c634e66', embedding=None, metadata={'page_label': '19', 'file_name': 's43556-023-00138-y.pdf'}, excluded_embed_metadata_keys=[], excluded_llm_metadata_keys=[], relationships={}, text='Page 19 of 20\\n Zhang\\xa0et\\xa0al. Molecular Biomedicine            (2023) 4:26 \\n \\n 133. Singer J, Al‑Fayoumi S, Ma H, Komrokji RS, Mesa R, Verstovsek S. Com‑\\nprehensive kinase profile of pacritinib, a non‑myelosuppressive JAK2 \\nkinase inhibitor in phase 3 development in primary and post ET/PV \\nmyelofibrosis. Blood. 2014;124(21):1874.\\n 134. Mascarenhas J. Pacritinib for the treatment of patients with myelofi‑\\nbrosis and thrombocytopenia. Expert Rev Hematol. 2022;15(8):671–84. \\nhttps:// doi. org/ 10. 1080/ 17474 086. 2022. 21125 65.\\n 135. Blanchard S, Lee CHA, Nagaraj HKM, Poulsen AS, Eric T, Tan YLE, William \\nAD. Preparation of oxygen linked pyrimidine macrocyclic derivatives as \\nantiproliferative agents. 2007. WO2007058627A1.\\n 136. William AD, Lee ACH, Blanchard S, Poulsen A, Teo EL, Nagaraj H, \\net al. Discovery of the macrocycle 11‑(2‑pyrrolidin‑1‑ yl‑ethoxy)‑\\n14,19‑ dioxa‑5,7,26‑triaza‑tetracyclo[19.3.1.1(2,6).1(8,12)]heptacosa‑\\n1(25),2(26),3,5,8,10,12(27),16,21,23‑ decaene (SB1518), a potent janus \\nkinase 2/fms‑like tyrosine kinase ‑3 (JAK2/FLT3) inhibitor for the treat ‑\\nment of myelofibrosis and lymphoma. J Med Chem. 2011;54(13):4638–\\n58. https:// doi. org/ 10. 1021/ jm200 326p .\\n 137. Fang H, Lu H, Hou X, Yang X. Preparation method of JAK inhibitor pacri‑\\ntinib. 2022. CN114409674A.\\n 138. Fallah J, Agrawal S, Gittleman H, Fiero MH, Subramaniam S, John C, \\net al. FDA approval summary: Iutetium Lu 177 vipivotide tetraxetan \\nfor patients with metastatic castration‑resistant prostate cancer. Clin \\nCancer Res. 2023;29(9):1651–7. https:// doi. org/ 10. 1158/ 1078‑ 0432. \\nCcr‑ 22‑ 2875.\\n 139. Liu X, Fang GC, Lu H, Shi ZD, Chen ZS, Han CH. Lutetium Lu 177 vipivot ‑\\nide tetraxetan for prostate cancer. Drugs Today (Barc). 2023;59(1):37–49. \\nhttps:// doi. org/ 10. 1358/ dot. 2023. 59.1. 34765 74.\\n 140. Tateishi U. Prostate ‑specific membrane antigen (PSMA)–ligand positron \\nemission tomography and radioligand therapy (RLT) of prostate cancer. \\nJpn J Clin Oncol. 2020;50(4):349–56. https:// doi. org/ 10. 1093/ jjco/ hyaa0 04.\\n 141. Emmett L, Willowson K, Violet J, Shin J, Blanksby A, Lee J. Lutetium 177 \\nPSMA radionuclide therapy for men with prostate cancer: A review of \\nthe current literature and discussion of practical aspects of therapy. J \\nMed Radiat Sci. 2017;64(1):52–60. https:// doi. org/ 10. 1002/ jmrs. 227.\\n 142. Czernin J, Calais J. The (177)Lu‑PSMA‑617 (Pluvicto) supply problem will \\nbe solved by competition. J Nucl Med. 2023;64(3):343. https:// doi. org/ \\n10. 2967/ jnumed. 123. 265459.\\n 143. Chandran E, Figg WD, Madan R. Lutetium‑177‑PSMA‑617: A vision of \\nthe future. Cancer Biol Ther. 2022;23(1):186–90. https:// doi. org/ 10. 1080/ \\n15384 047. 2022. 20379 85.\\n 144. Keam SJ. Lutetium Lu 177 vipivotide tetraxetan: First approval. \\nMol Diagn Ther. 2022;26(4):467–75. https:// doi. org/ 10. 1007/ \\ns40291‑ 022‑ 00594‑2.\\n 145. Benesova M, Schafer M, Bauder ‑Wust U, Afshar ‑Oromieh A, Kratochwil \\nC, Mier W, et al. Preclinical evaluation of a tailor ‑made DOTA‑ conjugated \\nPSMA inhibitor with optimized linker moiety for imaging and endora‑\\ndiotherapy of prostate cancer. J Nucl Med. 2015;56(6):914–20. https:// \\ndoi. org/ 10. 2967/ jnumed. 114. 147413.\\n 146. Lin KS, Benard F, Kuo HT, Zhang Z. Novel radiometal‑binding com‑\\npounds for diagnosis or treatment of prostate specific membrane \\nantigen‑ expressing cancer. 2019. WO2019075583A1.\\n 147. Syed YY. Futibatinib: First approval. Drugs. 2022;82(18):1737–43. https:// \\ndoi. org/ 10. 1007/ s40265‑ 022‑ 01806‑z.\\n 148. Lamarca A, Barriuso J, McNamara MG, Valle JW. Molecular targeted \\ntherapies: Ready for “prime time” in biliary tract cancer. J Hepatol. \\n2020;73(1):170–85. https:// doi. org/ 10. 1016/j. jhep. 2020. 03. 007.\\n 149. Kalyukina M, Yosaatmadja Y, Middleditch MJ, Patterson AV, Smaill JB, \\nSquire CJ. TAS‑120 cancer target binding: defining reactivity and reveal‑\\ning the first fibroblast growth factor receptor 1 (FGFR1) irreversible \\nstructure. ChemMedChem. 2019;14(4):494–500. https:// doi. org/ 10. \\n1002/ cmdc. 20180 0719.\\n 150. Goyal L, Shi L, Liu LY, Fece de la Cruz F, Lennerz JK, Raghavan S, et al. \\nTAS‑120 overcomes resistance to ATP ‑competitive FGFR inhibitors in \\npatients with FGFR2 fusion–positive intrahepatic cholangiocarcinoma‑\\nTAS‑120 efficacy in FGFR inhibitor–resistant biliary cancer. Cancer Dis‑\\ncov. 2019;9(8):1064–79. https:// doi. org/ 10. 1158/ 2159‑ 8290. CD ‑ 19‑ 0182.\\n 151. Sootome H, Fujita H, Ito K, Ochiiwa H, Fujioka Y, Ito K, et al. Futibatinib is \\na novel irreversible FGFR 1–4 inhibitor that shows selective antitumor \\nactivity against FGFR‑ deregulated tumors irreversible FGFR1–4 inhibi‑\\ntor. Cancer Res. 2020;80(22):4986–97. https:// doi. org/ 10. 1158/ 0008‑ \\n5472. CAN‑ 19‑ 2568. 152. Rizzo A, Ricci AD, Brandi G. Futibatinib, an investigational agent for the \\ntreatment of intrahepatic cholangiocarcinoma: Evidence to date and \\nfuture perspectives. Expert Opin Investig Drugs. 2021;30(4):317–24. \\nhttps:// doi. org/ 10. 1080/ 13543 784. 2021. 18377 74.\\n 153. Futibatinib (Lytgobi) for cholangiocarcinoma. Med Lett Drugs Ther. \\n2023;65(1674):e69‑ e70. https:// doi. org/ 10. 58347/ tml. 2023. 1674f .\\n 154. Kondo M. Method for producing dimethoxybenzene compound. 2020. \\nWO2020096042A1.\\n 155. Newell LF, Cook RJ. Advances in acute myeloid leukemia. BMJ. \\n2021;375:n2026. https:// doi. org/ 10. 1136/ bmj. n2026.\\n 156. Olutasidenib (Rezlidhia) for acute myeloid leukemia. Med Lett Drugs \\nTher. 2023;65(1673):e58‑ e59. https:// doi. org/ 10. 58347/ tml. 2023. 1673e .\\n 157. Dang L, Jin S, Su SM. IDH mutations in glioma and acute myeloid \\nleukemia. Trends Mol Med. 2010;16(9):387–97. https:// doi. org/ 10. 1016/j. \\nmolmed. 2010. 07. 002.\\n 158. Ward PS, Patel J, Wise DR, Abdel‑ Wahab O, Bennett BD, Coller HA, et al. \\nThe common feature of leukemia‑associated IDH1 and IDH2 mutations \\nis a neomorphic enzyme activity converting alpha‑ketoglutarate to \\n2‑hydroxyglutarate. Cancer Cell. 2010;17(3):225–34. https:// doi. org/ 10. \\n1016/j. ccr. 2010. 01. 020.\\n 159. de Nigris F, Ruosi C, Napoli C. Clinical efficiency of epigenetic drugs \\ntherapy in bone malignancies. Bone. 2021;143:115605. https:// doi. org/ \\n10. 1016/j. bone. 2020. 115605.\\n 160. Jones RL, Macarulla T, Charlson JA, Van Tine BA, Goyal L, Italiano A, et al. \\nA phase Ib/II study of olutasidenib in patients with relapsed/refractory \\nIDH1 mutant solid tumors: Safety and efficacy as single agent. J Clin \\nOncol. 2020;38(15):e16643. https:// doi. org/ 10. 1200/ JCO. 2020. 38. 15_ \\nsuppl. e16643.\\n 161. De La Fuente MI, Colman H, Rosenthal M, Van Tine BA, Levaci D, Walbert \\nT, et al. A phase Ib/II study of olutasidenib in patients with relapsed/\\nrefractory IDH1 mutant gliomas: Safety and efficacy as single agent and \\nin combination with azacitidine. J Clin Oncol. 2020;38(15):2505. https:// \\ndoi. org/ 10. 1200/ JCO. 2020. 38. 15_ suppl. 2505.\\n 162. Caravella JA, Lin J, Diebold RB, Campbell AM, Ericsson A, Gustafson G, \\net al. Structure ‑based design and identification of FT ‑2102 (Oluta‑\\nsidenib), a potent mutant ‑selective IDH1 inhibitor. J Med Chem. \\n2020;63(4):1612–23. https:// doi. org/ 10. 1021/ acs. jmedc hem. 9b014 23.\\n 163. Dhillon S. Adagrasib: First approval. Drugs. 2023;83(3):275–85. https:// \\ndoi. org/ 10. 1007/ s40265‑ 023‑ 01839‑ y.\\n 164. O’Sullivan É, Keogh A, Henderson B, Finn SP , Gray SG, Gately K. Treat ‑\\nment strategies for KRAS‑mutated non‑small‑ cell lung cancer. Cancers \\n(Basel). 2023;15(6):1635. https:// doi. org/ 10. 3390/ cance rs150 61635.\\n 165. Adagrasib (Krazati) for NSCLC. Med Lett Drugs Ther. 2023;65(1668):e17‑\\ne18. https:// doi. org/ 10. 58347/ tml. 2023. 1668f .\\n 166. Rodenhuis S, Boerrigter L, Top B, Slebos RJ, Mooi WJ, van’t Veer L, et al. Muta‑\\ntional activation of the K ‑ras oncogene and the effect of chemotherapy in \\nadvanced adenocarcinoma of the lung: A prospective study. J Clin Oncol. \\n1997;15(1):285–91. https:// doi. org/ 10. 1200/ jco. 1997. 15.1. 285.\\n 167. Hallin J, Engstrom LD, Hargis L, Calinisan A, Aranda R, Briere DM, et al. \\nThe KRASG12C inhibitor MRTX849 provides insight toward therapeutic \\nsusceptibility of KRAS‑Mutant cancers in mouse models and patient ‑\\nstherapeutic insight from the KRASG12C inhibitor MRTX849. Cancer \\nDiscov. 2020;10(1):54–71. https:// doi. org/ 10. 1158/ 2159‑ 8290.\\n 168. Ou SHI, Jänne PA, Leal TA, Rybkin II, Sabari JK, Barve MA, et al. First ‑\\nin‑human phase I/IB dose ‑finding study of adagrasib (MRTX849) in \\npatients with advanced KRASG12C solid tumors (KRYSTAL ‑1). J Clin \\nOncol. 2022;40(23):2530–8. https:// doi. org/ 10. 1200/ JCO. 21. 02752.\\n 169. Fell JB, Fischer JP , Baer BR, Blake JF, Bouhana K, Briere DM, et al. \\nIdentification of the clinical development candidate MRTX849, a \\ncovalent KRASG12C inhibitor for the treatment of cancer. J Med Chem. \\n2020;63(13):6679–93. https:// doi. org/ 10. 1021/ acs. jmedc hem. 9b020 52.\\n 170. Vishwanatha T, Panguluri NR, Sureshbabu VV. Propanephosphonic acid \\nanhydride (T3P®)‑A benign reagent for diverse applications inclusive of \\nlarge ‑scale synthesis. Synthesis. 2013;45(12):1569–601. https:// doi. org/ \\n10. 1055/s‑ 0033‑ 13389 89.\\n 171. Keam SJ. Mavacamten: First approval. Drugs. 2022;82(10):1127–35. \\nhttps:// doi. org/ 10. 1007/ s40265‑ 022‑ 01758‑4.\\n 172. Lakdawala N, Saberi S, Day S, Ingles J, Semsarian C, Olivotto I, et al. New \\nYork Heart Association functional class and mortality in obstructive \\nhypertrophic cardiomyopathy. J Card Fail. 2022;28(5):S37–8. https:// doi. \\norg/ 10. 1016/j. cardf ail. 2022. 03. 101.', start_char_idx=None, end_char_idx=None, text_template='{metadata_str}\\n\\n{content}', metadata_template='{key}: {value}', metadata_seperator='\\n'),\n",
       " Document(id_='c29b41d5-2af6-4572-828f-e16186a653f1', embedding=None, metadata={'page_label': '20', 'file_name': 's43556-023-00138-y.pdf'}, excluded_embed_metadata_keys=[], excluded_llm_metadata_keys=[], relationships={}, text='Page 20 of 20 Zhang\\xa0et\\xa0al. Molecular Biomedicine            (2023) 4:26 \\n 173. Dalo JD, Weisman ND, White CM. Mavacamten, a first ‑in‑class cardiac myosin \\ninhibitor for obstructive hypertrophic cardiomyopathy. Ann Pharmaco ‑\\nther. 2023;57(4):489–502. https:// doi. org/ 10. 1177/ 10600 28022 11178 12.\\n 174. Fukuda N, Granzier H, Ishiwata S, Morimoto S. Editorial: Recent advances \\non myocardium physiology, volume II. Front Physiol. 2023;14:1170396. \\nhttps:// doi. org/ 10. 3389/ fphys. 2023. 11703 96.\\n 175. Gollapudi SK, Ma W, Chakravarthy S, Combs AC, Sa N, Langer S, et al. Two \\nclasses of myosin inhibitors, para‑nitroblebbistatin and mavacamten, \\nstabilize β‑ cardiac myosin in different structural and functional states. J \\nMol Biol. 2021;433(23):167295. https:// doi. org/ 10. 1016/j. jmb. 2021. 167295.\\n 176. Green EM, Wakimoto H, Anderson RL, Evanchik MJ, Gorham JM, Harrison \\nBC, et al. A small‑molecule inhibitor of sarcomere contractility suppresses \\nhypertrophic cardiomyopathy in mice. Science. 2016;351(6273):617–21. \\nhttps:// doi. org/ 10. 1126/ scien ce. aad34 56.\\n 177. Stern JA, Markova S, Ueda Y, Kim JB, Pascoe PJ, Evanchik MJ, et al. A small mol‑\\necule inhibitor of sarcomere contractility acutely relieves left ventricular \\noutflow tract obstruction in feline hypertrophic cardiomyopathy. PLoS \\nOne. 2016;11(12):e0168407. https:// doi. org/ 10. 1371/ journ al. pone. 01684  \\n07.\\n 178. Kawas RF, Anderson RL, Ingle SRB, Song Y, Sran AS, Rodriguez HM. A small‑\\nmolecule modulator of cardiac myosin acts on multiple stages of the \\nmyosin chemomechanical cycle. J Biol Chem. 2017;292(40):16571–7. \\nhttps:// doi. org/ 10. 1074/ jbc. M117. 776815.\\n 179. Capilupi MJ, Frishman WH. Mavacamten: A novel disease ‑specific treatment \\nfor hypertrophic cardiomyopathy. Cardiol Rev. 2023;31(1):45–51. https://  \\ndoi. org/ 10. 1097/ crd. 00000 00000 000433.\\n 180. Oslob J, Anderson R, Aubele D, Evanchik M, Fox JC, Kane B, et al. Preparation \\nof pyrimidinedione compounds for treating hypertrophic cardiomyopa‑\\nthy (HCM) and other cardiac conditions. 2014. WO2014205223A1.\\n 181. Singal AK, Jalan R. Terlipressin for hepatorenal syndrome: Opportunities and \\nchallenges. Lancet Gastroenterol Hepatol. 2023;8(2):104–6. https:// doi.  \\norg/ 10. 1016/ s2468‑ 1253(22) 00377‑6.\\n 182. Habas E, Ibrahim AR, Moursi MO, Shraim BA, Elgamal ME, Elzouki AN. Update \\non hepatorenal syndrome: Definition, pathogenesis, and management. \\nArab J Gastroenterol. 2022;23(2):125–33. https:// doi. org/ 10. 1016/j. ajg.  \\n2022. 01. 005.\\n 183. O’Brien A, Clapp L, Singer M. Terlipressin for norepinephrine ‑resistant septic \\nshock. Lancet. 2002;359(9313):1209–10. https:// doi. org/ 10. 1016/ S0140‑ \\n6736(02) 08225‑9.\\n 184. Zhou X, Tripathi D, Song T, Shao L, Han B, Zhu J, et al. Terlipressin for the treat ‑\\nment of acute variceal bleeding: a systematic review and meta‑analysis of \\nrandomized controlled trials. Medicine. 2018;97(48):e13437. https:// doi.  \\norg/ 10. 1097/ MD. 00000 00000 013437.\\n 185. Liu X, Luo G, Jiang J, Ma T, Lin X, Jiang L, et al. Signaling through hepatocyte \\nvasopressin receptor 1 protects mouse liver from ischemia‑reperfusion \\ninjury. Oncotarget. 2016;7(43):69276–90. https:// doi. org/ 10. 18632/ oncot  \\narget. 12472.\\n 186. Jao YTFN. Refractory torsade de pointes induced by terlipressin (Glypressin). \\nInt J Cardiol. 2016;222:135–40. https:// doi. org/ 10. 1016/j. ijcard. 2016. 07. 247.\\n 187. Liu ZM, Zhang XY, Chen J, Shen JT, Jiang ZY, Guan XD. Terlipressin protects \\nintestinal epithelial cells against oxygen‑ glucose deprivation/re ‑oxygen‑\\nation injury via the phosphatidylinositol 3‑kinase pathway. Exp Ther Med. \\n2017;14(1):260–6. https:// doi. org/ 10. 3892/ etm. 2017. 4502.\\n 188. Pesaturo AB, Jennings HR, Voils SA. Terlipressin: Vasopressin analog and novel \\ndrug for septic shock. Ann Pharmacother. 2006;40(12):2170–7. https:// doi.  \\norg/ 10. 1345/ aph. 1H373.\\n 189. Allegretti AS, Subramanian RM, Francoz C, Olson JC, Cárdenas A. Respiratory \\nevents with terlipressin and albumin in hepatorenal syndrome: A review \\nand clinical guidance. Liver Int. 2022;42(10):2124–30. https:// doi. org/ 10.  \\n1111/ liv. 15367.\\n 190. Leone M, Charvet A, Delmas A, Albanèse J, Martin C, Boyle WA. Terlipressin: \\nA new therapeutic for calcium‑ channel blockers overdose. J Crit Care. \\n2005;1(20):114–5. https:// doi. org/ 10. 1016/j. jcrc. 2004. 10. 004.\\n 191. Chen Y, Mi P , Tao A, Yuan J. Synthesis method for terlipressin. 2020. \\nWO2020107879A1.\\n 192. Marckmann P , Skov L, Rossen K, Dupont A, Damholt MB, Heaf JG, et al. \\nNephrogenic systemic fibrosis: Suspected causative role of gadodiamide \\nused for contrast ‑enhanced magnetic resonance imaging. J Am Soc \\nNephrol. 2006;17(9):2359–62. https:// doi. org/ 10. 1681/ asn. 20060 60601. 193. Sadowski EA, Bennett LK, Chan MR, Wentland AL, Garrett AL, Garrett RW, \\net al. Nephrogenic systemic fibrosis: Risk factors and incidence estimation. \\nRadiology. 2007;243(1):148–57. https:// doi. org/ 10. 1148/ radiol. 24310 62144.\\n 194. Daftari Besheli L, Aran S, Shaqdan K, Kay J, Abujudeh H. Current status of \\nnephrogenic systemic fibrosis. Clin Radiol. 2014;69(7):661–8. https:// doi.  \\norg/ 10. 1016/j. crad. 2014. 01. 003.\\n 195. Robic C, Port M, Rousseaux O, Louguet S, Fretellier N, Catoen S, et al. \\nPhysicochemical and pharmacokinetic profiles of gadopiclenol: A new \\nmacrocyclic gadolinium chelate with high T1 relaxivity. Invest Radiol. \\n2019;54(8):475–84. https:// doi. org/ 10. 1097/ RLI. 00000 00000 000563.\\n 196. Bendszus M, Roberts D, Kolumban B, Meza JA, Bereczki D, San‑ Juan D, et al. \\nDose finding study of gadopiclenol, a new macrocyclic contrast agent, in \\nMRI of central nervous system. Invest Radiol. 2020;55(3):129–37. https://  \\ndoi. org/ 10. 1097/ RLI. 00000 00000 000624.\\n 197. Fries P , Massmann A, Robert P , Corot C, Laschke MW, Schneider G, et al. Evalu‑\\nation of gadopiclenol and P846, 2 high‑relaxivity macrocyclic magnetic \\nresonance contrast agents without protein binding, in a rodent model \\nof hepatic metastases: Potential solutions for improved enhancement at \\nultrahigh field strength. Invest Radiol. 2019;54(9):549–58. https:// doi. org/  \\n10. 1097/ rli. 00000 00000 000572.\\n 198. Lancelot E, Raynaud JS, Desché P . Current and future MR contrast agents: \\nSeeking a better chemical stability and relaxivity for optimal safety and \\nefficacy. Invest Radiol. 2020;55(9):578–88. https:// doi. org/ 10. 1097/ rli. 00000  \\n00000 000684.\\n 199. Port M. Compounds comprising short aminoalcohol chains and metal \\ncomplexes for medical imaging. 2007. WO2007042506A1.\\n 200. Duggan S. Omidenepag isopropyl ophthalmic solution 0.002%: First \\nglobal approval. Drugs. 2018;78(18):1925–9. https:// doi. org/ 10. 1007/  \\ns40265‑ 018‑ 1016‑1.\\n 201. Matsuo M, Matsuoka Y, Tanito M. Efficacy and patient tolerability of omide ‑\\nnepag isopropyl in the treatment of glaucoma and ocular hypertension. \\nClin Ophthalmol. 2022;16:1261–79. https:// doi. org/ 10. 2147/ opth. S3403 86.\\n 202. Iwamura R, Tanaka M, Okanari E, Kirihara T, Odani‑Kawabata N, Shams N, \\net al. Identification of a selective, non‑prostanoid EP2 receptor agonist for \\nthe treatment of glaucoma: omidenepag and its prodrug omidenepag \\nisopropyl. J Med Chem. 2018;61(15):6869–91. https:// doi. org/ 10. 1021/ acs.  \\njmedc hem. 8b008 08.\\n 203. Kirihara T, Taniguchi T, Yamamura K, Iwamura R, Yoneda K, Odani‑Kawabata \\nN, et al. Pharmacologic characterization of omidenepag isopropyl, a novel \\nselective EP2 receptor agonist, as an ocular hypotensive agent. Invest \\nOphthalmol Vis Sci. 2018;59(1):145–53. https:// doi. org/ 10. 1167/ iovs.  \\n17‑ 22745.\\n 204. Nakamura N, Honjo M, Yamagishi R, Igarashi N, Sakata R, Aihara M. Effects \\nof selective EP2 receptor agonist, omidenepag, on trabecular meshwork \\ncells, Schlemm’s canal endothelial cells and ciliary muscle contraction. Sci \\nRep. 2021;11(1):16257. https:// doi. org/ 10. 1038/ s41598‑ 021‑ 95768‑z.\\n 205. Fuwa M, Toris CB, Fan S, Taniguchi T, Ichikawa M, Odani‑Kawabata N, et al. \\nEffects of a novel selective EP2 receptor agonist, omidenepag isopropyl, \\non aqueous humor dynamics in laser ‑induced ocular hypertensive mon‑\\nkeys. J Ocul Pharmacol Th. 2018;34(7):531–7. https:// doi. org/ 10. 1089/ jop.  \\n2017. 0146.\\n 206. Aihara M, Lu F, Kawata H, Iwata A, Odani‑Kawabata N, Shams NK. Omide ‑\\nnepag isopropyl versus latanoprost in primary open‑angle glaucoma \\nand ocular hypertension: The phase 3 AYAME study. Am J Ophthalmol. \\n2020;220:53–63. https:// doi. org/ 10. 1016/j. ajo. 2020. 06. 003.\\n 207. Lamorte L, Titolo S, Lemke CT, Goudreau N, Mercier JF, Wardrop E, et al. Dis‑\\ncovery of novel small‑molecule HIV ‑1 replication inhibitors that stabilize \\ncapsid complexes. Antimicrob Agents Chemother. 2013;57(10):4622–31. \\nhttps:// doi. org/ 10. 1128/ AAC. 00985‑ 13.\\n 208. Imaizumi T, Akaiwa M, Abe T, Nigawara T, Koike T, Satake Y, et al. Discovery \\nand biological evaluation of 1‑{2,7‑ diazaspiro[3.5]nonan‑2‑ yl}prop ‑2‑en‑1‑\\none derivatives as covalent inhibitors of KRAS G12C with favorable meta‑\\nbolic stability and anti‑tumor activity. Bioorg Med Chem. 2022;71:116949. \\nhttps:// doi. org/ 10. 1016/j. bmc. 2022. 116949.\\nPublisher’s Note\\nSpringer Nature remains neutral with regard to jurisdictional claims in pub ‑\\nlished maps and institutional affiliations.', start_char_idx=None, end_char_idx=None, text_template='{metadata_str}\\n\\n{content}', metadata_template='{key}: {value}', metadata_seperator='\\n')]"
      ]
     },
     "execution_count": 7,
     "metadata": {},
     "output_type": "execute_result"
    }
   ],
   "source": [
    "pdf_documents"
   ]
  },
  {
   "cell_type": "code",
   "execution_count": 15,
   "id": "3899916e-74a3-4b29-b55a-056a68be6799",
   "metadata": {},
   "outputs": [],
   "source": [
    "# setup prompts - specific to StableLM\n",
    "from llama_index.core import PromptTemplate\n",
    "#Quantize the model to save memory\n",
    "from transformers import BitsAndBytesConfig\n",
    "\n",
    "system_prompt = \"\"\"<|SYSTEM|># StableLM Tuned (Alpha version)\n",
    "- StableLM is a helpful and harmless open-source AI language model developed by StabilityAI.\n",
    "- StableLM is excited to be able to help the user, but will refuse to do anything that could be considered harmful to the user.\n",
    "- StableLM is more than just an information source, StableLM is also able to write poetry, short stories, and make jokes.\n",
    "- StableLM will refuse to participate in anything that could harm a human.\n",
    "\"\"\"\n",
    "\n",
    "# This will wrap the default prompts that are internal to llama-index\n",
    "query_wrapper_prompt = PromptTemplate(\"<|USER|>{query_str}<|ASSISTANT|>\")\n",
    "\n",
    "# quantize to save memory\n",
    "quantization_config = BitsAndBytesConfig(\n",
    "    load_in_4bit=True,\n",
    "    bnb_4bit_compute_dtype=torch.float16,\n",
    "    bnb_4bit_quant_type=\"nf4\",\n",
    "    bnb_4bit_use_double_quant=True,\n",
    ")"
   ]
  },
  {
   "cell_type": "code",
   "execution_count": 28,
   "id": "a945c7cc-1068-44ae-8a8c-5d67ab12c0e8",
   "metadata": {},
   "outputs": [],
   "source": [
    "# setup prompts - specific to StableLM\n",
    "from llama_index.core import PromptTemplate\n",
    "\n",
    "system_prompt = \"\"\"<|SYSTEM|># StableLM Tuned (Alpha version)\n",
    "- StableLM is a helpful and harmless open-source AI language model developed by StabilityAI.\n",
    "- StableLM is excited to be able to help the user, but will refuse to do anything that could be considered harmful to the user.\n",
    "- StableLM will answer the query as best as possible for the user. \n",
    "- StableLM will refuse to participate in anything that could harm a human.\n",
    "\"\"\"\n",
    "\n",
    "# This will wrap the default prompts that are internal to llama-index\n",
    "query_wrapper_prompt = PromptTemplate(\"<|USER|>{query_str}<|ASSISTANT|>\")\n",
    "\n",
    "# quantize to save memory (This is a choice for Open Source LLMs, if we have an API this is not needed.)\n",
    "quantization_config = BitsAndBytesConfig(\n",
    "    load_in_4bit=True,\n",
    "    bnb_4bit_compute_dtype=torch.float16,\n",
    "    bnb_4bit_quant_type=\"nf4\",\n",
    "    bnb_4bit_use_double_quant=True,\n",
    ")\n"
   ]
  },
  {
   "cell_type": "code",
   "execution_count": 31,
   "id": "cdbc16db-2a53-4eaa-bff0-9f68ddf40081",
   "metadata": {},
   "outputs": [
    {
     "name": "stdout",
     "output_type": "stream",
     "text": [
      "False\n"
     ]
    }
   ],
   "source": [
    "import torch\n",
    "print(torch.cuda.is_available())"
   ]
  },
  {
   "cell_type": "code",
   "execution_count": null,
   "id": "27799610-3d5e-41b6-8c81-f089d21a31da",
   "metadata": {},
   "outputs": [],
   "source": [
    "import torch\n",
    "\n",
    "llm = HuggingFaceLLM(\n",
    "    context_window=4096,\n",
    "    max_new_tokens=256,\n",
    "    generate_kwargs={\"temperature\": 0.7, \"do_sample\": False},\n",
    "    system_prompt=system_prompt,\n",
    "    query_wrapper_prompt=query_wrapper_prompt,\n",
    "    tokenizer_name=\"StabilityAI/stablelm-tuned-alpha-3b\",\n",
    "    model_name=\"StabilityAI/stablelm-tuned-alpha-3b\",\n",
    "    device_map=\"auto\",\n",
    "    stopping_ids=[50278, 50279, 50277, 1, 0],\n",
    "    tokenizer_kwargs={\"max_length\": 4096, \"quantization_config\": quantization_config},\n",
    "    # uncomment this if using CUDA to reduce memory usage\n",
    "    model_kwargs={\"torch_dtype\": torch.float16}\n",
    ")\n",
    "\n",
    "Settings.llm = llm\n",
    "Settings.chunk_size = 1024"
   ]
  },
  {
   "cell_type": "code",
   "execution_count": null,
   "id": "2ebb24ca-8c1e-4e4b-a7fd-d6afe20a9153",
   "metadata": {},
   "outputs": [],
   "source": [
    "##Embedding our documents\n",
    "index = VectorStoreIndex.from_documents(pdf_documents)"
   ]
  },
  {
   "cell_type": "code",
   "execution_count": null,
   "id": "ddf6f242-687a-4004-90e2-bf3acca2ab3f",
   "metadata": {},
   "outputs": [],
   "source": [
    "query_engine = index.as_query_engine(streaming=True)"
   ]
  },
  {
   "cell_type": "markdown",
   "id": "be7e0f62-4329-4ca7-879d-94fcccc69a31",
   "metadata": {},
   "source": [
    "Suppose we see this in the pdf: \n",
    "\n",
    "![title](img/question.png)\n",
    "\n",
    "Thus, we create the question: \"When was Vonoprazan first launched and where?\" as an initial test."
   ]
  },
  {
   "cell_type": "code",
   "execution_count": null,
   "id": "15c2307a-e787-4f43-8e3b-0d384a447493",
   "metadata": {},
   "outputs": [],
   "source": [
    "##Here we get our response\n",
    "response_stream = query_engine.query(\"When was Vonoprazan first lanched and where?\")"
   ]
  },
  {
   "cell_type": "code",
   "execution_count": null,
   "id": "dd0ae3fa-13a3-47db-a3f4-23b13e46088f",
   "metadata": {},
   "outputs": [],
   "source": [
    "#Response Stream reduces latency\n",
    "response = response_stream.get_response()"
   ]
  },
  {
   "cell_type": "code",
   "execution_count": 33,
   "id": "51221770-dd55-477f-aa73-fc2f122e3961",
   "metadata": {},
   "outputs": [
    {
     "name": "stdout",
     "output_type": "stream",
     "text": [
      "Vonoprazan was first launched on February 2015 in Japan.<|endoftext|>\n"
     ]
    }
   ],
   "source": [
    "print(response)"
   ]
  }
 ],
 "metadata": {
  "kernelspec": {
   "display_name": "Python 3 (ipykernel)",
   "language": "python",
   "name": "python3"
  },
  "language_info": {
   "codemirror_mode": {
    "name": "ipython",
    "version": 3
   },
   "file_extension": ".py",
   "mimetype": "text/x-python",
   "name": "python",
   "nbconvert_exporter": "python",
   "pygments_lexer": "ipython3",
   "version": "3.10.12"
  }
 },
 "nbformat": 4,
 "nbformat_minor": 5
}
