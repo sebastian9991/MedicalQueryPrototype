{
 "cells": [
  {
   "cell_type": "markdown",
   "id": "9ce3c6d6-43f5-42a6-9666-23632615ac48",
   "metadata": {},
   "source": [
    "# Medical Query Prototype\n",
    "\n",
    "## Description:\n",
    "As per the document: \""
   ]
  }
 ],
 "metadata": {
  "kernelspec": {
   "display_name": "Python 3 (ipykernel)",
   "language": "python",
   "name": "python3"
  },
  "language_info": {
   "codemirror_mode": {
    "name": "ipython",
    "version": 3
   },
   "file_extension": ".py",
   "mimetype": "text/x-python",
   "name": "python",
   "nbconvert_exporter": "python",
   "pygments_lexer": "ipython3",
   "version": "3.10.12"
  }
 },
 "nbformat": 4,
 "nbformat_minor": 5
}
